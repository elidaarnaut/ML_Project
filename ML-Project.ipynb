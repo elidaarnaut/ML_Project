{
 "cells": [
  {
   "cell_type": "code",
   "execution_count": 560,
   "metadata": {},
   "outputs": [],
   "source": [
    "#ML Project"
   ]
  },
  {
   "cell_type": "markdown",
   "metadata": {},
   "source": [
    "Dataset: Heart Disease Dataset\n",
    "Source: Kaggle"
   ]
  },
  {
   "cell_type": "code",
   "execution_count": 561,
   "metadata": {},
   "outputs": [],
   "source": [
    "import pandas as pd"
   ]
  },
  {
   "cell_type": "code",
   "execution_count": 562,
   "metadata": {},
   "outputs": [],
   "source": [
    "df = pd.read_csv(r'Dataset\\raw_merged_heart_dataset.csv')"
   ]
  },
  {
   "cell_type": "code",
   "execution_count": 563,
   "metadata": {},
   "outputs": [
    {
     "name": "stdout",
     "output_type": "stream",
     "text": [
      "   age  sex  cp trestbps chol fbs restecg thalachh exang  oldpeak slope ca  \\\n",
      "0   63    1   3      145  233   1       0      150     0      2.3     0  0   \n",
      "1   37    1   2      130  250   0       1      187     0      3.5     0  0   \n",
      "2   41    0   1      130  204   0       0      172     0      1.4     2  0   \n",
      "3   56    1   1      120  236   0       1      178     0      0.8     2  0   \n",
      "4   57    0   0      120  354   0       1      163     1      0.6     2  0   \n",
      "\n",
      "  thal  target  \n",
      "0    1       1  \n",
      "1    2       1  \n",
      "2    2       1  \n",
      "3    2       1  \n",
      "4    2       1  \n"
     ]
    }
   ],
   "source": [
    "print(df.head())"
   ]
  },
  {
   "cell_type": "code",
   "execution_count": 564,
   "metadata": {},
   "outputs": [
    {
     "name": "stdout",
     "output_type": "stream",
     "text": [
      "<class 'pandas.core.frame.DataFrame'>\n",
      "RangeIndex: 2181 entries, 0 to 2180\n",
      "Data columns (total 14 columns):\n",
      " #   Column    Non-Null Count  Dtype  \n",
      "---  ------    --------------  -----  \n",
      " 0   age       2181 non-null   int64  \n",
      " 1   sex       2181 non-null   int64  \n",
      " 2   cp        2181 non-null   int64  \n",
      " 3   trestbps  2181 non-null   object \n",
      " 4   chol      2181 non-null   object \n",
      " 5   fbs       2181 non-null   object \n",
      " 6   restecg   2181 non-null   object \n",
      " 7   thalachh  2181 non-null   object \n",
      " 8   exang     2181 non-null   object \n",
      " 9   oldpeak   2181 non-null   float64\n",
      " 10  slope     2181 non-null   object \n",
      " 11  ca        2181 non-null   object \n",
      " 12  thal      2181 non-null   object \n",
      " 13  target    2181 non-null   int64  \n",
      "dtypes: float64(1), int64(4), object(9)\n",
      "memory usage: 238.7+ KB\n",
      "None\n"
     ]
    }
   ],
   "source": [
    "print(df.info())"
   ]
  },
  {
   "cell_type": "code",
   "execution_count": 565,
   "metadata": {},
   "outputs": [
    {
     "name": "stdout",
     "output_type": "stream",
     "text": [
      "               age          sex           cp      oldpeak       target\n",
      "count  2181.000000  2181.000000  2181.000000  2181.000000  2181.000000\n",
      "mean     53.477762     0.693260     1.507565     0.990509     0.496103\n",
      "std       9.194787     0.461246     1.371587     1.141851     0.500099\n",
      "min      28.000000     0.000000     0.000000     0.000000     0.000000\n",
      "25%      46.000000     0.000000     0.000000     0.000000     0.000000\n",
      "50%      54.000000     1.000000     2.000000     0.600000     0.000000\n",
      "75%      60.000000     1.000000     2.000000     1.600000     1.000000\n",
      "max      77.000000     1.000000     4.000000     6.200000     1.000000\n"
     ]
    }
   ],
   "source": [
    "print(df.describe())"
   ]
  },
  {
   "cell_type": "code",
   "execution_count": 566,
   "metadata": {},
   "outputs": [
    {
     "name": "stdout",
     "output_type": "stream",
     "text": [
      "age         0\n",
      "sex         0\n",
      "cp          0\n",
      "trestbps    0\n",
      "chol        0\n",
      "fbs         0\n",
      "restecg     0\n",
      "thalachh    0\n",
      "exang       0\n",
      "oldpeak     0\n",
      "slope       0\n",
      "ca          0\n",
      "thal        0\n",
      "target      0\n",
      "dtype: int64\n"
     ]
    }
   ],
   "source": [
    "print(df.isnull().sum())"
   ]
  },
  {
   "cell_type": "markdown",
   "metadata": {},
   "source": [
    "Although the code says there are no missing values, while exploring the dataset manually I noticed that the missing values are marked as ? so I will go through each feature and see what are the distinct values and if there are any ?"
   ]
  },
  {
   "cell_type": "code",
   "execution_count": 567,
   "metadata": {},
   "outputs": [
    {
     "name": "stdout",
     "output_type": "stream",
     "text": [
      "Number of '?' in the 'age' column: 0\n"
     ]
    }
   ],
   "source": [
    "age_question_marks = (df['age'] == '?').sum()\n",
    "print(f\"Number of '?' in the 'age' column: {age_question_marks}\")"
   ]
  },
  {
   "cell_type": "code",
   "execution_count": 568,
   "metadata": {},
   "outputs": [
    {
     "name": "stdout",
     "output_type": "stream",
     "text": [
      "Number of '?' in the 'sex' column: 0\n"
     ]
    }
   ],
   "source": [
    "sex_question_marks = (df['sex'] == '?').sum()\n",
    "print(f\"Number of '?' in the 'sex' column: {sex_question_marks}\")"
   ]
  },
  {
   "cell_type": "code",
   "execution_count": 569,
   "metadata": {},
   "outputs": [
    {
     "name": "stdout",
     "output_type": "stream",
     "text": [
      "Number of '?' in the 'cp' column: 0\n"
     ]
    }
   ],
   "source": [
    "cp_question_marks = (df['cp'] == '?').sum()\n",
    "print(f\"Number of '?' in the 'cp' column: {cp_question_marks}\")"
   ]
  },
  {
   "cell_type": "code",
   "execution_count": 570,
   "metadata": {},
   "outputs": [
    {
     "name": "stdout",
     "output_type": "stream",
     "text": [
      "Number of '?' in the 'trestbps' column: 1\n"
     ]
    }
   ],
   "source": [
    "trestbps_question_marks = (df['trestbps'] == '?').sum()\n",
    "print(f\"Number of '?' in the 'trestbps' column: {trestbps_question_marks}\")"
   ]
  },
  {
   "cell_type": "code",
   "execution_count": 571,
   "metadata": {},
   "outputs": [
    {
     "name": "stdout",
     "output_type": "stream",
     "text": [
      "Number of '?' in the 'age' column: 0\n",
      "Number of '?' in the 'sex' column: 0\n",
      "Number of '?' in the 'cp' column: 0\n",
      "Number of '?' in the 'trestbps' column: 1\n",
      "Number of '?' in the 'chol' column: 23\n",
      "Number of '?' in the 'fbs' column: 8\n",
      "Number of '?' in the 'restecg' column: 1\n",
      "Number of '?' in the 'thalachh' column: 1\n",
      "Number of '?' in the 'exang' column: 1\n",
      "Number of '?' in the 'oldpeak' column: 0\n",
      "Number of '?' in the 'slope' column: 190\n",
      "Number of '?' in the 'ca' column: 291\n",
      "Number of '?' in the 'thal' column: 266\n",
      "Number of '?' in the 'target' column: 0\n"
     ]
    }
   ],
   "source": [
    "for column in df.columns:\n",
    "    question_mark_count = (df[column] == '?').sum()\n",
    "    print(f\"Number of '?' in the '{column}' column: {question_mark_count}\")"
   ]
  },
  {
   "cell_type": "markdown",
   "metadata": {},
   "source": [
    "While manually exploring the data I noticed some other unexpected values, so I will chack for those as well"
   ]
  },
  {
   "cell_type": "code",
   "execution_count": 572,
   "metadata": {},
   "outputs": [
    {
     "name": "stdout",
     "output_type": "stream",
     "text": [
      "Unique values in the 'age' column: [63 37 41 56 57 44 52 54 48 49 64 58 50 66 43 69 59 42 61 40 71 51 65 53\n",
      " 46 45 39 47 62 34 35 29 55 60 67 68 74 76 70 38 77 28 30 31 32 33 36]\n",
      "Unique values in the 'sex' column: [1 0]\n",
      "Unique values in the 'cp' column: [3 2 1 0 4]\n",
      "Unique values in the 'trestbps' column: ['145' '130' '120' '140' '172' '150' '110' '135' '160' '105' '125' '142'\n",
      " '155' '104' '138' '128' '108' '134' '122' '115' '118' '100' '124' '94'\n",
      " '112' '102' '152' '101' '132' '148' '178' '129' '180' '136' '126' '106'\n",
      " '156' '170' '146' '117' '200' '165' '174' '192' '144' '123' '154' '114'\n",
      " '164' '98' '190' '?' '113' '92' '158']\n",
      "Unique values in the 'chol' column: ['233' '250' '204' '236' '354' '192' '294' '263' '199' '168' '239' '275'\n",
      " '266' '211' '283' '219' '340' '226' '247' '234' '243' '302' '212' '175'\n",
      " '417' '197' '198' '177' '273' '213' '304' '232' '269' '360' '308' '245'\n",
      " '208' '264' '321' '325' '235' '257' '216' '256' '231' '141' '252' '201'\n",
      " '222' '260' '182' '303' '265' '309' '186' '203' '183' '220' '209' '258'\n",
      " '227' '261' '221' '205' '240' '318' '298' '564' '277' '214' '248' '255'\n",
      " '207' '223' '288' '160' '394' '315' '246' '244' '270' '195' '196' '254'\n",
      " '126' '313' '262' '215' '193' '271' '268' '267' '210' '295' '306' '178'\n",
      " '242' '180' '228' '149' '278' '253' '342' '157' '286' '229' '284' '224'\n",
      " '206' '167' '230' '335' '276' '353' '225' '330' '290' '172' '305' '188'\n",
      " '282' '185' '326' '274' '164' '307' '249' '341' '407' '217' '174' '281'\n",
      " '289' '322' '299' '300' '293' '184' '409' '259' '200' '327' '237' '218'\n",
      " '319' '166' '311' '169' '187' '176' '241' '131' '132' '?' '161' '173'\n",
      " '194' '297' '292' '339' '147' '291' '358' '412' '238' '163' '280' '202'\n",
      " '328' '129' '190' '179' '272' '100' '468' '320' '312' '171' '365' '344'\n",
      " '85' '347' '251' '287' '156' '117' '466' '338' '529' '392' '329' '355'\n",
      " '603' '404' '518' '285' '279' '388' '336' '491' '331' '393']\n",
      "Unique values in the 'fbs' column: ['1' '0' '?']\n",
      "Unique values in the 'restecg' column: ['0' '1' '2' '?']\n",
      "Unique values in the 'thalachh' column: ['150' '187' '172' '178' '163' '148' '153' '173' '162' '174' '160' '139'\n",
      " '171' '144' '158' '114' '151' '161' '179' '137' '157' '123' '152' '168'\n",
      " '140' '188' '125' '170' '165' '142' '180' '143' '182' '156' '115' '149'\n",
      " '146' '175' '186' '185' '159' '130' '190' '132' '147' '154' '202' '166'\n",
      " '164' '184' '122' '169' '138' '111' '145' '194' '131' '133' '155' '167'\n",
      " '192' '121' '96' '126' '105' '181' '116' '108' '129' '120' '112' '128'\n",
      " '109' '113' '99' '177' '141' '136' '97' '127' '103' '124' '88' '195'\n",
      " '106' '95' '117' '71' '118' '134' '90' '98' '176' '135' '110' '?' '100'\n",
      " '87' '102' '92' '91' '82' '119' '94']\n",
      "Unique values in the 'exang' column: ['0' '1' '?']\n",
      "Unique values in the 'oldpeak' column: [2.3 3.5 1.4 0.8 0.6 0.4 1.3 0.  0.5 1.6 1.2 0.2 1.8 1.  2.6 1.5 3.  2.4\n",
      " 0.1 1.9 4.2 1.1 2.  0.7 0.3 0.9 3.6 3.1 3.2 2.5 2.2 2.8 3.4 6.2 4.  5.6\n",
      " 2.9 2.1 3.8 4.4 5. ]\n",
      "Unique values in the 'slope' column: ['0' '2' '1' '?' '3']\n",
      "Unique values in the 'ca' column: ['0' '2' '1' '3' '4' '?']\n",
      "Unique values in the 'thal' column: ['1' '2' '3' '0' '?' '6' '7']\n",
      "Unique values in the 'target' column: [1 0]\n"
     ]
    }
   ],
   "source": [
    "for column in df.columns:\n",
    "    unique_values = df[column].unique()\n",
    "    print(f\"Unique values in the '{column}' column: {unique_values}\")"
   ]
  },
  {
   "cell_type": "markdown",
   "metadata": {},
   "source": [
    "Apart from ? there are some other unexpected values. cp has a value of 4 when the values for that feature should be 0,1,2,3. "
   ]
  },
  {
   "cell_type": "markdown",
   "metadata": {},
   "source": [
    "Slope has value of 3 when the expected values are 0,1,2\n",
    "\n",
    "ca has value 4 when expected values are 0,1,2,3\n",
    "thal expected values are 1,2,3 and there are values 6 and 7"
   ]
  },
  {
   "cell_type": "code",
   "execution_count": 573,
   "metadata": {},
   "outputs": [
    {
     "name": "stdout",
     "output_type": "stream",
     "text": [
      "Unexpected values in the 'cp' column: cp\n",
      "4    252\n",
      "Name: count, dtype: int64\n",
      "Unexpected values in the 'slope' column: slope\n",
      "2    964\n",
      "1    894\n",
      "?    190\n",
      "0    114\n",
      "3     19\n",
      "Name: count, dtype: int64\n",
      "Unexpected values in the 'ca' column: ca\n",
      "0    1086\n",
      "1     410\n",
      "?     291\n",
      "2     239\n",
      "3     127\n",
      "4      28\n",
      "Name: count, dtype: int64\n",
      "Unexpected values in the 'thal' column: thal\n",
      "2    874\n",
      "3    795\n",
      "?    266\n",
      "7    115\n",
      "1     96\n",
      "6     24\n",
      "0     11\n",
      "Name: count, dtype: int64\n"
     ]
    }
   ],
   "source": [
    "expected_values = {\n",
    "    'cp': [0, 1, 2, 3],\n",
    "    'slope': [0, 1, 2],\n",
    "    'ca': [0, 1, 2, 3],\n",
    "    'thal': [1, 2, 3]\n",
    "}\n",
    "\n",
    "#To count the unexpected values that I previously found\n",
    "def count_unexpected(df, column, valid_values):\n",
    "    unexpected_count = df[column][~df[column].isin(valid_values)].value_counts()\n",
    "    return unexpected_count\n",
    "\n",
    "#Check each specified column\n",
    "for column, valid_values in expected_values.items():\n",
    "    print(f\"Unexpected values in the '{column}' column: {count_unexpected(df, column, valid_values)}\")"
   ]
  },
  {
   "cell_type": "markdown",
   "metadata": {},
   "source": [
    "Unexpected values:\n",
    "\n",
    "cp: 252 rows of value 4\n",
    "\n",
    "slope: 19 rows of value 3\n",
    "\n",
    "ca: 28 rows of value 4\n",
    "\n",
    "thal: 11 rows of value 0\n",
    "\n",
    "thal: 24 rows of value 6\n",
    "\n",
    "thal: 115 rows of value 7\n"
   ]
  },
  {
   "cell_type": "code",
   "execution_count": 574,
   "metadata": {},
   "outputs": [],
   "source": [
    "# I imported all of the individual datasets so i can preprocess them and merge them properly\n",
    "df1 = pd.read_csv(r'C:\\Users\\elida\\OneDrive\\Desktop\\Uni-Master 2024\\ML\\ProjectML\\Datasets-to-merge\\heart.csv')\n",
    "df2 = pd.read_csv(r'C:\\Users\\elida\\OneDrive\\Desktop\\Uni-Master 2024\\ML\\ProjectML\\Datasets-to-merge\\heart2.csv')\n",
    "df3 = pd.read_csv(r'C:\\Users\\elida\\OneDrive\\Desktop\\Uni-Master 2024\\ML\\ProjectML\\Datasets-to-merge\\Heart_Disease_Prediction3.csv')\n",
    "df4 = pd.read_csv(r'C:\\Users\\elida\\OneDrive\\Desktop\\Uni-Master 2024\\ML\\ProjectML\\Datasets-to-merge\\data4.csv')\n",
    "df5 = pd.read_csv(r'C:\\Users\\elida\\OneDrive\\Desktop\\Uni-Master 2024\\ML\\ProjectML\\Datasets-to-merge\\heart5.csv')"
   ]
  },
  {
   "cell_type": "code",
   "execution_count": 575,
   "metadata": {},
   "outputs": [
    {
     "name": "stdout",
     "output_type": "stream",
     "text": [
      "['age', 'sex', 'cp', 'trtbps', 'chol', 'fbs', 'restecg', 'thalachh', 'exng', 'oldpeak', 'slp', 'caa', 'thall', 'output']\n",
      "['age', 'sex', 'cp', 'trestbps', 'chol', 'fbs', 'restecg', 'thalachh', 'exang', 'oldpeak', 'slope', 'ca', 'thal', 'target']\n"
     ]
    }
   ],
   "source": [
    "# To see all of the features\n",
    "print(df1.columns.tolist())\n",
    "# To see the features of the og dataset\n",
    "print(df.columns.tolist())"
   ]
  },
  {
   "cell_type": "code",
   "execution_count": 576,
   "metadata": {},
   "outputs": [
    {
     "name": "stdout",
     "output_type": "stream",
     "text": [
      "<class 'pandas.core.frame.DataFrame'>\n",
      "RangeIndex: 303 entries, 0 to 302\n",
      "Data columns (total 14 columns):\n",
      " #   Column    Non-Null Count  Dtype  \n",
      "---  ------    --------------  -----  \n",
      " 0   age       303 non-null    int64  \n",
      " 1   sex       303 non-null    int64  \n",
      " 2   cp        303 non-null    int64  \n",
      " 3   trtbps    303 non-null    int64  \n",
      " 4   chol      303 non-null    int64  \n",
      " 5   fbs       303 non-null    int64  \n",
      " 6   restecg   303 non-null    int64  \n",
      " 7   thalachh  303 non-null    int64  \n",
      " 8   exng      303 non-null    int64  \n",
      " 9   oldpeak   303 non-null    float64\n",
      " 10  slp       303 non-null    int64  \n",
      " 11  caa       303 non-null    int64  \n",
      " 12  thall     303 non-null    int64  \n",
      " 13  output    303 non-null    int64  \n",
      "dtypes: float64(1), int64(13)\n",
      "memory usage: 33.3 KB\n"
     ]
    }
   ],
   "source": [
    "df1.info()"
   ]
  },
  {
   "cell_type": "code",
   "execution_count": 577,
   "metadata": {},
   "outputs": [
    {
     "name": "stdout",
     "output_type": "stream",
     "text": [
      "Distinct values in cp: [3 2 1 0]\n",
      "Distinct values in fbs: [1 0]\n",
      "Distinct values in restecg: [0 1 2]\n",
      "Distinct values in exng: [0 1]\n",
      "Distinct values in slp: [0 2 1]\n",
      "Distinct values in caa: [0 2 1 3 4]\n",
      "Distinct values in thall: [1 2 3 0]\n",
      "Distinct values in output: [1 0]\n"
     ]
    }
   ],
   "source": [
    "# List of features to check \n",
    "features = ['cp', 'fbs', 'restecg', 'exng', 'slp', 'caa', 'thall', 'output']\n",
    "for feature in features:\n",
    "    print(f\"Distinct values in {feature}: {df1[feature].unique()}\")"
   ]
  },
  {
   "cell_type": "markdown",
   "metadata": {},
   "source": [
    "I need to check the same thing in the other datasets. caa has value 4 which is not intended. Thall shouldn't have the value 0."
   ]
  },
  {
   "cell_type": "code",
   "execution_count": 578,
   "metadata": {},
   "outputs": [
    {
     "name": "stdout",
     "output_type": "stream",
     "text": [
      "'4' appears 5 times in 'caa' out of 303 instances.\n"
     ]
    }
   ],
   "source": [
    "caa_counts = df1['caa'].value_counts()\n",
    "count_of_four = caa_counts.get(4, 0)\n",
    "\n",
    "total_instances = len(df1)\n",
    "print(f\"'4' appears {count_of_four} times in 'caa' out of {total_instances} instances.\")"
   ]
  },
  {
   "cell_type": "markdown",
   "metadata": {},
   "source": [
    "4 is most likely a mistake made during data entry."
   ]
  },
  {
   "cell_type": "code",
   "execution_count": 579,
   "metadata": {},
   "outputs": [
    {
     "name": "stdout",
     "output_type": "stream",
     "text": [
      "'0' appears 2 times in 'thall' out of 303 instances.\n"
     ]
    }
   ],
   "source": [
    "thall_counts = df1['thall'].value_counts()\n",
    "count_of_zero = thall_counts.get(0, 0)\n",
    "\n",
    "total_instances = len(df1)\n",
    "print(f\"'0' appears {count_of_zero} times in 'thall' out of {total_instances} instances.\")"
   ]
  },
  {
   "cell_type": "markdown",
   "metadata": {},
   "source": [
    "thall is most likely also a mistake made during data entry."
   ]
  },
  {
   "cell_type": "code",
   "execution_count": 580,
   "metadata": {},
   "outputs": [
    {
     "name": "stdout",
     "output_type": "stream",
     "text": [
      "<class 'pandas.core.frame.DataFrame'>\n",
      "RangeIndex: 1025 entries, 0 to 1024\n",
      "Data columns (total 14 columns):\n",
      " #   Column    Non-Null Count  Dtype  \n",
      "---  ------    --------------  -----  \n",
      " 0   age       1025 non-null   int64  \n",
      " 1   sex       1025 non-null   int64  \n",
      " 2   cp        1025 non-null   int64  \n",
      " 3   trestbps  1025 non-null   int64  \n",
      " 4   chol      1025 non-null   int64  \n",
      " 5   fbs       1025 non-null   int64  \n",
      " 6   restecg   1025 non-null   int64  \n",
      " 7   thalach   1025 non-null   int64  \n",
      " 8   exang     1025 non-null   int64  \n",
      " 9   oldpeak   1025 non-null   float64\n",
      " 10  slope     1025 non-null   int64  \n",
      " 11  ca        1025 non-null   int64  \n",
      " 12  thal      1025 non-null   int64  \n",
      " 13  target    1025 non-null   int64  \n",
      "dtypes: float64(1), int64(13)\n",
      "memory usage: 112.2 KB\n"
     ]
    }
   ],
   "source": [
    "df2.info()"
   ]
  },
  {
   "cell_type": "code",
   "execution_count": 581,
   "metadata": {},
   "outputs": [
    {
     "name": "stdout",
     "output_type": "stream",
     "text": [
      "Distinct values in cp: [0 1 2 3]\n",
      "Distinct values in fbs: [0 1]\n",
      "Distinct values in restecg: [1 0 2]\n",
      "Distinct values in exang: [0 1]\n",
      "Distinct values in slope: [2 0 1]\n",
      "Distinct values in ca: [2 0 1 3 4]\n",
      "Distinct values in thal: [3 2 1 0]\n",
      "Distinct values in target: [0 1]\n"
     ]
    }
   ],
   "source": [
    "#Unique values in Dataset 2\n",
    "features = ['cp', 'fbs', 'restecg', 'exang', 'slope', 'ca', 'thal', 'target']\n",
    "for feature in features:\n",
    "    print(f\"Distinct values in {feature}: {df2[feature].unique()}\")"
   ]
  },
  {
   "cell_type": "markdown",
   "metadata": {},
   "source": [
    "caa shouldn't have the value 4 and thal shouldn't have the value 0."
   ]
  },
  {
   "cell_type": "code",
   "execution_count": 582,
   "metadata": {},
   "outputs": [
    {
     "name": "stdout",
     "output_type": "stream",
     "text": [
      "'4' appears 18 times in 'ca' out of 1025 instances.\n"
     ]
    }
   ],
   "source": [
    "caa_counts = df2['ca'].value_counts()\n",
    "count_of_four = caa_counts.get(4, 0)\n",
    "\n",
    "total_instances = len(df2)\n",
    "print(f\"'4' appears {count_of_four} times in 'ca' out of {total_instances} instances.\")"
   ]
  },
  {
   "cell_type": "code",
   "execution_count": 583,
   "metadata": {},
   "outputs": [
    {
     "name": "stdout",
     "output_type": "stream",
     "text": [
      "'0' appears 7 times in 'thal' out of 1025 instances.\n"
     ]
    }
   ],
   "source": [
    "thall_counts = df2['thal'].value_counts()\n",
    "count_of_zero = thall_counts.get(0, 0)\n",
    "\n",
    "total_instances = len(df2)\n",
    "print(f\"'0' appears {count_of_zero} times in 'thal' out of {total_instances} instances.\")"
   ]
  },
  {
   "cell_type": "markdown",
   "metadata": {},
   "source": [
    "Both 4 in ca and 0 in thal are probably mistakes made during data entery."
   ]
  },
  {
   "cell_type": "code",
   "execution_count": 584,
   "metadata": {},
   "outputs": [
    {
     "name": "stdout",
     "output_type": "stream",
     "text": [
      "<class 'pandas.core.frame.DataFrame'>\n",
      "RangeIndex: 270 entries, 0 to 269\n",
      "Data columns (total 14 columns):\n",
      " #   Column                   Non-Null Count  Dtype  \n",
      "---  ------                   --------------  -----  \n",
      " 0   Age                      270 non-null    int64  \n",
      " 1   Sex                      270 non-null    int64  \n",
      " 2   Chest pain type          270 non-null    int64  \n",
      " 3   BP                       270 non-null    int64  \n",
      " 4   Cholesterol              270 non-null    int64  \n",
      " 5   FBS over 120             270 non-null    int64  \n",
      " 6   EKG results              270 non-null    int64  \n",
      " 7   Max HR                   270 non-null    int64  \n",
      " 8   Exercise angina          270 non-null    int64  \n",
      " 9   ST depression            270 non-null    float64\n",
      " 10  Slope of ST              270 non-null    int64  \n",
      " 11  Number of vessels fluro  270 non-null    int64  \n",
      " 12  Thallium                 270 non-null    int64  \n",
      " 13  Heart Disease            270 non-null    object \n",
      "dtypes: float64(1), int64(12), object(1)\n",
      "memory usage: 29.7+ KB\n"
     ]
    }
   ],
   "source": [
    "df3.info()"
   ]
  },
  {
   "cell_type": "code",
   "execution_count": 585,
   "metadata": {},
   "outputs": [
    {
     "name": "stdout",
     "output_type": "stream",
     "text": [
      "Distinct values in Chest pain type: [4 3 2 1]\n",
      "Distinct values in FBS over 120: [0 1]\n",
      "Distinct values in EKG results: [2 0 1]\n",
      "Distinct values in Exercise angina: [0 1]\n",
      "Distinct values in Slope of ST: [2 1 3]\n",
      "Distinct values in Number of vessels fluro: [3 0 1 2]\n",
      "Distinct values in Thallium: [3 7 6]\n",
      "Distinct values in Heart Disease: ['Presence' 'Absence']\n"
     ]
    }
   ],
   "source": [
    "features = ['Chest pain type', 'FBS over 120', 'EKG results', 'Exercise angina', 'Slope of ST', 'Number of vessels fluro', 'Thallium', 'Heart Disease']\n",
    "for feature in features:\n",
    "    print(f\"Distinct values in {feature}: {df3[feature].unique()}\")"
   ]
  },
  {
   "cell_type": "markdown",
   "metadata": {},
   "source": [
    "For dataset 3 I need to change the chest pain to go form 0-3 instead of 1-4. Change slope values from 1-3 to 0-2. Change thal values from 3,6,7 to 1-3. Change presence and absence to 1 and 0."
   ]
  },
  {
   "cell_type": "code",
   "execution_count": 586,
   "metadata": {},
   "outputs": [],
   "source": [
    "# changing the values from 1-4 to 0-3\n",
    "replacement_map = {\n",
    "    1: 0,\n",
    "    2: 1,\n",
    "    3: 2,\n",
    "    4: 3\n",
    "}\n",
    "df3['Chest pain type'] = df3['Chest pain type'].replace(replacement_map)"
   ]
  },
  {
   "cell_type": "code",
   "execution_count": 587,
   "metadata": {},
   "outputs": [
    {
     "name": "stdout",
     "output_type": "stream",
     "text": [
      "Chest pain type\n",
      "3    129\n",
      "2     79\n",
      "1     42\n",
      "0     20\n",
      "Name: count, dtype: int64\n"
     ]
    }
   ],
   "source": [
    "print(df3['Chest pain type'].value_counts())"
   ]
  },
  {
   "cell_type": "code",
   "execution_count": 588,
   "metadata": {},
   "outputs": [],
   "source": [
    "# changing the values from 1-3 to 0-2 of slope feature\n",
    "replacement_map = {\n",
    "    1: 0,\n",
    "    2: 1,\n",
    "    3: 2\n",
    "}\n",
    "df3['Slope of ST'] = df3['Slope of ST'].replace(replacement_map)"
   ]
  },
  {
   "cell_type": "code",
   "execution_count": 589,
   "metadata": {},
   "outputs": [
    {
     "name": "stdout",
     "output_type": "stream",
     "text": [
      "Slope of ST\n",
      "0    130\n",
      "1    122\n",
      "2     18\n",
      "Name: count, dtype: int64\n"
     ]
    }
   ],
   "source": [
    "print(df3['Slope of ST'].value_counts())"
   ]
  },
  {
   "cell_type": "code",
   "execution_count": 590,
   "metadata": {},
   "outputs": [
    {
     "name": "stdout",
     "output_type": "stream",
     "text": [
      "Thallium\n",
      "1    152\n",
      "3    104\n",
      "2     14\n",
      "Name: count, dtype: int64\n"
     ]
    }
   ],
   "source": [
    "# changing the values 3->1, 6->2, 7->3 for Thallium feature\n",
    "replacement_map = {\n",
    "    3: 1,\n",
    "    6: 2,\n",
    "    7: 3\n",
    "}\n",
    "df3['Thallium'] = df3['Thallium'].replace(replacement_map)\n",
    "print(df3['Thallium'].value_counts())"
   ]
  },
  {
   "cell_type": "code",
   "execution_count": 591,
   "metadata": {},
   "outputs": [
    {
     "name": "stdout",
     "output_type": "stream",
     "text": [
      "Heart Disease\n",
      "0    150\n",
      "1    120\n",
      "Name: count, dtype: int64\n"
     ]
    },
    {
     "name": "stderr",
     "output_type": "stream",
     "text": [
      "C:\\Users\\elida\\AppData\\Local\\Temp\\ipykernel_5424\\2247834156.py:6: FutureWarning: Downcasting behavior in `replace` is deprecated and will be removed in a future version. To retain the old behavior, explicitly call `result.infer_objects(copy=False)`. To opt-in to the future behavior, set `pd.set_option('future.no_silent_downcasting', True)`\n",
      "  df3['Heart Disease'] = df3['Heart Disease'].replace(replacement_map)\n"
     ]
    }
   ],
   "source": [
    "# changing the values Heart Disease feature\n",
    "replacement_map = {\n",
    "    'Presence': 1,\n",
    "    'Absence': 0\n",
    "}\n",
    "df3['Heart Disease'] = df3['Heart Disease'].replace(replacement_map)\n",
    "print(df3['Heart Disease'].value_counts())"
   ]
  },
  {
   "cell_type": "code",
   "execution_count": 592,
   "metadata": {},
   "outputs": [
    {
     "name": "stdout",
     "output_type": "stream",
     "text": [
      "Distinct values in Chest pain type: [3 2 1 0]\n",
      "Distinct values in FBS over 120: [0 1]\n",
      "Distinct values in EKG results: [2 0 1]\n",
      "Distinct values in Exercise angina: [0 1]\n",
      "Distinct values in Slope of ST: [1 0 2]\n",
      "Distinct values in Number of vessels fluro: [3 0 1 2]\n",
      "Distinct values in Thallium: [1 3 2]\n",
      "Distinct values in Heart Disease: [1 0]\n"
     ]
    }
   ],
   "source": [
    "features = ['Chest pain type', 'FBS over 120', 'EKG results', 'Exercise angina', 'Slope of ST', 'Number of vessels fluro', 'Thallium', 'Heart Disease']\n",
    "for feature in features:\n",
    "    print(f\"Distinct values in {feature}: {df3[feature].unique()}\")"
   ]
  },
  {
   "cell_type": "code",
   "execution_count": 593,
   "metadata": {},
   "outputs": [
    {
     "name": "stdout",
     "output_type": "stream",
     "text": [
      "<class 'pandas.core.frame.DataFrame'>\n",
      "RangeIndex: 294 entries, 0 to 293\n",
      "Data columns (total 14 columns):\n",
      " #   Column    Non-Null Count  Dtype  \n",
      "---  ------    --------------  -----  \n",
      " 0   age       294 non-null    int64  \n",
      " 1   sex       294 non-null    int64  \n",
      " 2   cp        294 non-null    int64  \n",
      " 3   trestbps  294 non-null    object \n",
      " 4   chol      294 non-null    object \n",
      " 5   fbs       294 non-null    object \n",
      " 6   restecg   294 non-null    object \n",
      " 7   thalach   294 non-null    object \n",
      " 8   exang     294 non-null    object \n",
      " 9   oldpeak   294 non-null    float64\n",
      " 10  slope     294 non-null    object \n",
      " 11  ca        294 non-null    object \n",
      " 12  thal      294 non-null    object \n",
      " 13  num       294 non-null    int64  \n",
      "dtypes: float64(1), int64(4), object(9)\n",
      "memory usage: 32.3+ KB\n"
     ]
    }
   ],
   "source": [
    "df4.info()"
   ]
  },
  {
   "cell_type": "code",
   "execution_count": 594,
   "metadata": {},
   "outputs": [
    {
     "name": "stdout",
     "output_type": "stream",
     "text": [
      "Distinct values in cp: [2 1 3 4]\n",
      "Distinct values in fbs: ['0' '?' '1']\n",
      "Distinct values in restecg: ['2' '0' '1' '?']\n",
      "Distinct values in exang: ['0' '1' '?']\n",
      "Distinct values in slope: ['?' '2' '1' '3']\n",
      "Distinct values in ca: ['?' '0']\n",
      "Distinct values in thal: ['?' '6' '3' '7']\n",
      "Distinct values in num: [0 1]\n"
     ]
    }
   ],
   "source": [
    "features = ['cp', 'fbs', 'restecg', 'exang', 'slope', 'ca', 'thal', 'num']\n",
    "for feature in features:\n",
    "    print(f\"Distinct values in {feature}: {df4[feature].unique()}\")"
   ]
  },
  {
   "cell_type": "markdown",
   "metadata": {},
   "source": [
    "We can see a lot of fields have ?, which is a representation of missing values.\n",
    "Values in cp should go from 0-3 instead of 1-4. Change values in thal from 3,6,7 to 1,2,3."
   ]
  },
  {
   "cell_type": "code",
   "execution_count": 595,
   "metadata": {},
   "outputs": [
    {
     "name": "stdout",
     "output_type": "stream",
     "text": [
      "cp\n",
      "3    123\n",
      "1    106\n",
      "2     54\n",
      "0     11\n",
      "Name: count, dtype: int64\n"
     ]
    }
   ],
   "source": [
    "# changing the values form 1-4 to 0-3 for cp feature\n",
    "replacement_map = {\n",
    "    1: 0,\n",
    "    2: 1,\n",
    "    3: 2,\n",
    "    4: 3\n",
    "}\n",
    "df4['cp'] = df4['cp'].replace(replacement_map)\n",
    "print(df4['cp'].value_counts())"
   ]
  },
  {
   "cell_type": "code",
   "execution_count": 596,
   "metadata": {},
   "outputs": [
    {
     "name": "stdout",
     "output_type": "stream",
     "text": [
      "thal\n",
      "?    266\n",
      "7     11\n",
      "6     10\n",
      "3      7\n",
      "Name: count, dtype: int64\n"
     ]
    }
   ],
   "source": [
    "# changing the values 3->1, 6->2, 7->3 for thal feature\n",
    "replacement_map = {\n",
    "    3: 1,\n",
    "    6: 2,\n",
    "    7: 3\n",
    "}\n",
    "df4['thal'] = df4['thal'].replace(replacement_map)\n",
    "print(df4['thal'].value_counts())"
   ]
  },
  {
   "cell_type": "markdown",
   "metadata": {},
   "source": [
    "So the code above didn't work because I didn't address the ? values."
   ]
  },
  {
   "cell_type": "code",
   "execution_count": 597,
   "metadata": {},
   "outputs": [],
   "source": [
    "import numpy as np"
   ]
  },
  {
   "cell_type": "code",
   "execution_count": 598,
   "metadata": {},
   "outputs": [
    {
     "name": "stdout",
     "output_type": "stream",
     "text": [
      "thal\n",
      "3.0    11\n",
      "2.0    10\n",
      "1.0     7\n",
      "Name: count, dtype: int64\n"
     ]
    }
   ],
   "source": [
    "# I change ? to be NaN value \n",
    "df4['thal'] = df4['thal'].replace('?', np.nan)\n",
    "# to make sure that the column is a numaric type after changing ? to NaN\n",
    "df4['thal'] = pd.to_numeric(df4['thal'], errors='coerce')\n",
    "replacement_map = {\n",
    "    3: 1,\n",
    "    6: 2,\n",
    "    7: 3\n",
    "}\n",
    "df4['thal'] = df4['thal'].replace(replacement_map)\n",
    "print(df4['thal'].value_counts())"
   ]
  },
  {
   "cell_type": "code",
   "execution_count": 599,
   "metadata": {},
   "outputs": [
    {
     "name": "stdout",
     "output_type": "stream",
     "text": [
      "<class 'pandas.core.frame.DataFrame'>\n",
      "RangeIndex: 289 entries, 0 to 288\n",
      "Data columns (total 14 columns):\n",
      " #   Column    Non-Null Count  Dtype  \n",
      "---  ------    --------------  -----  \n",
      " 0   age       289 non-null    int64  \n",
      " 1   sex       289 non-null    int64  \n",
      " 2   cp        289 non-null    int64  \n",
      " 3   trtbps    289 non-null    int64  \n",
      " 4   chol      289 non-null    int64  \n",
      " 5   fbs       289 non-null    int64  \n",
      " 6   restecg   289 non-null    int64  \n",
      " 7   thalachh  289 non-null    int64  \n",
      " 8   exng      289 non-null    int64  \n",
      " 9   oldpeak   289 non-null    float64\n",
      " 10  slp       289 non-null    int64  \n",
      " 11  caa       289 non-null    int64  \n",
      " 12  thall     289 non-null    int64  \n",
      " 13  output    289 non-null    int64  \n",
      "dtypes: float64(1), int64(13)\n",
      "memory usage: 31.7 KB\n"
     ]
    }
   ],
   "source": [
    "df5.info()"
   ]
  },
  {
   "cell_type": "code",
   "execution_count": 600,
   "metadata": {},
   "outputs": [
    {
     "name": "stdout",
     "output_type": "stream",
     "text": [
      "Distinct values in cp: [3 2 1 0]\n",
      "Distinct values in fbs: [1 0]\n",
      "Distinct values in restecg: [0 1 2]\n",
      "Distinct values in exng: [0 1]\n",
      "Distinct values in slp: [0 2 1]\n",
      "Distinct values in caa: [0 2 1 3 4]\n",
      "Distinct values in thall: [1 2 3 0]\n",
      "Distinct values in output: [1 0]\n"
     ]
    }
   ],
   "source": [
    "features = ['cp', 'fbs', 'restecg', 'exng', 'slp', 'caa', 'thall', 'output']\n",
    "for feature in features:\n",
    "    print(f\"Distinct values in {feature}: {df5[feature].unique()}\")"
   ]
  },
  {
   "cell_type": "markdown",
   "metadata": {},
   "source": [
    "4 in caa is unexpected, the values go from 0-3. thal should go from 1-3"
   ]
  },
  {
   "cell_type": "code",
   "execution_count": 601,
   "metadata": {},
   "outputs": [
    {
     "name": "stdout",
     "output_type": "stream",
     "text": [
      "caa\n",
      "0    170\n",
      "1     61\n",
      "2     34\n",
      "3     19\n",
      "4      5\n",
      "Name: count, dtype: int64\n"
     ]
    }
   ],
   "source": [
    "print(df5['caa'].value_counts())"
   ]
  },
  {
   "cell_type": "code",
   "execution_count": 602,
   "metadata": {},
   "outputs": [
    {
     "name": "stdout",
     "output_type": "stream",
     "text": [
      "'4' appears 5 times in 'caa' out of 289 instances.\n"
     ]
    }
   ],
   "source": [
    "caa = df5['caa'].value_counts()\n",
    "count_of_four = caa.get(4, 0)\n",
    "\n",
    "total_instances = len(df5)\n",
    "print(f\"'4' appears {count_of_four} times in 'caa' out of {total_instances} instances.\")"
   ]
  },
  {
   "cell_type": "markdown",
   "metadata": {},
   "source": [
    "Value 4 in caa is most likely a mistake made during data entery"
   ]
  },
  {
   "cell_type": "code",
   "execution_count": 603,
   "metadata": {},
   "outputs": [
    {
     "name": "stdout",
     "output_type": "stream",
     "text": [
      "'0' appears 2 times in 'thall' out of 289 instances.\n"
     ]
    }
   ],
   "source": [
    "thall_counts = df5['thall'].value_counts()\n",
    "count_of_zero = thall_counts.get(0, 0)\n",
    "\n",
    "total_instances = len(df5)\n",
    "print(f\"'0' appears {count_of_zero} times in 'thall' out of {total_instances} instances.\")"
   ]
  },
  {
   "cell_type": "markdown",
   "metadata": {},
   "source": [
    "It appears that the 0 is probbably just an error that happened during input."
   ]
  },
  {
   "cell_type": "code",
   "execution_count": 604,
   "metadata": {},
   "outputs": [
    {
     "name": "stdout",
     "output_type": "stream",
     "text": [
      "<class 'pandas.core.frame.DataFrame'>\n",
      "RangeIndex: 303 entries, 0 to 302\n",
      "Data columns (total 14 columns):\n",
      " #   Column    Non-Null Count  Dtype  \n",
      "---  ------    --------------  -----  \n",
      " 0   age       303 non-null    int64  \n",
      " 1   sex       303 non-null    int64  \n",
      " 2   cp        303 non-null    int64  \n",
      " 3   trtbps    303 non-null    int64  \n",
      " 4   chol      303 non-null    int64  \n",
      " 5   fbs       303 non-null    int64  \n",
      " 6   restecg   303 non-null    int64  \n",
      " 7   thalachh  303 non-null    int64  \n",
      " 8   exng      303 non-null    int64  \n",
      " 9   oldpeak   303 non-null    float64\n",
      " 10  slp       303 non-null    int64  \n",
      " 11  caa       303 non-null    int64  \n",
      " 12  thall     303 non-null    int64  \n",
      " 13  output    303 non-null    int64  \n",
      "dtypes: float64(1), int64(13)\n",
      "memory usage: 33.3 KB\n"
     ]
    }
   ],
   "source": [
    "df1.info()\n"
   ]
  },
  {
   "cell_type": "code",
   "execution_count": 605,
   "metadata": {},
   "outputs": [
    {
     "name": "stdout",
     "output_type": "stream",
     "text": [
      "<class 'pandas.core.frame.DataFrame'>\n",
      "RangeIndex: 1025 entries, 0 to 1024\n",
      "Data columns (total 14 columns):\n",
      " #   Column    Non-Null Count  Dtype  \n",
      "---  ------    --------------  -----  \n",
      " 0   age       1025 non-null   int64  \n",
      " 1   sex       1025 non-null   int64  \n",
      " 2   cp        1025 non-null   int64  \n",
      " 3   trestbps  1025 non-null   int64  \n",
      " 4   chol      1025 non-null   int64  \n",
      " 5   fbs       1025 non-null   int64  \n",
      " 6   restecg   1025 non-null   int64  \n",
      " 7   thalach   1025 non-null   int64  \n",
      " 8   exang     1025 non-null   int64  \n",
      " 9   oldpeak   1025 non-null   float64\n",
      " 10  slope     1025 non-null   int64  \n",
      " 11  ca        1025 non-null   int64  \n",
      " 12  thal      1025 non-null   int64  \n",
      " 13  target    1025 non-null   int64  \n",
      "dtypes: float64(1), int64(13)\n",
      "memory usage: 112.2 KB\n"
     ]
    }
   ],
   "source": [
    "df2.info()\n"
   ]
  },
  {
   "cell_type": "code",
   "execution_count": 606,
   "metadata": {},
   "outputs": [
    {
     "name": "stdout",
     "output_type": "stream",
     "text": [
      "<class 'pandas.core.frame.DataFrame'>\n",
      "RangeIndex: 270 entries, 0 to 269\n",
      "Data columns (total 14 columns):\n",
      " #   Column                   Non-Null Count  Dtype  \n",
      "---  ------                   --------------  -----  \n",
      " 0   Age                      270 non-null    int64  \n",
      " 1   Sex                      270 non-null    int64  \n",
      " 2   Chest pain type          270 non-null    int64  \n",
      " 3   BP                       270 non-null    int64  \n",
      " 4   Cholesterol              270 non-null    int64  \n",
      " 5   FBS over 120             270 non-null    int64  \n",
      " 6   EKG results              270 non-null    int64  \n",
      " 7   Max HR                   270 non-null    int64  \n",
      " 8   Exercise angina          270 non-null    int64  \n",
      " 9   ST depression            270 non-null    float64\n",
      " 10  Slope of ST              270 non-null    int64  \n",
      " 11  Number of vessels fluro  270 non-null    int64  \n",
      " 12  Thallium                 270 non-null    int64  \n",
      " 13  Heart Disease            270 non-null    int64  \n",
      "dtypes: float64(1), int64(13)\n",
      "memory usage: 29.7 KB\n"
     ]
    }
   ],
   "source": [
    "df3.info()\n"
   ]
  },
  {
   "cell_type": "code",
   "execution_count": 607,
   "metadata": {},
   "outputs": [
    {
     "name": "stdout",
     "output_type": "stream",
     "text": [
      "<class 'pandas.core.frame.DataFrame'>\n",
      "RangeIndex: 294 entries, 0 to 293\n",
      "Data columns (total 14 columns):\n",
      " #   Column    Non-Null Count  Dtype  \n",
      "---  ------    --------------  -----  \n",
      " 0   age       294 non-null    int64  \n",
      " 1   sex       294 non-null    int64  \n",
      " 2   cp        294 non-null    int64  \n",
      " 3   trestbps  294 non-null    object \n",
      " 4   chol      294 non-null    object \n",
      " 5   fbs       294 non-null    object \n",
      " 6   restecg   294 non-null    object \n",
      " 7   thalach   294 non-null    object \n",
      " 8   exang     294 non-null    object \n",
      " 9   oldpeak   294 non-null    float64\n",
      " 10  slope     294 non-null    object \n",
      " 11  ca        294 non-null    object \n",
      " 12  thal      28 non-null     float64\n",
      " 13  num       294 non-null    int64  \n",
      "dtypes: float64(2), int64(4), object(8)\n",
      "memory usage: 32.3+ KB\n"
     ]
    }
   ],
   "source": [
    "df4.info()\n"
   ]
  },
  {
   "cell_type": "code",
   "execution_count": 608,
   "metadata": {},
   "outputs": [
    {
     "name": "stdout",
     "output_type": "stream",
     "text": [
      "<class 'pandas.core.frame.DataFrame'>\n",
      "RangeIndex: 289 entries, 0 to 288\n",
      "Data columns (total 14 columns):\n",
      " #   Column    Non-Null Count  Dtype  \n",
      "---  ------    --------------  -----  \n",
      " 0   age       289 non-null    int64  \n",
      " 1   sex       289 non-null    int64  \n",
      " 2   cp        289 non-null    int64  \n",
      " 3   trtbps    289 non-null    int64  \n",
      " 4   chol      289 non-null    int64  \n",
      " 5   fbs       289 non-null    int64  \n",
      " 6   restecg   289 non-null    int64  \n",
      " 7   thalachh  289 non-null    int64  \n",
      " 8   exng      289 non-null    int64  \n",
      " 9   oldpeak   289 non-null    float64\n",
      " 10  slp       289 non-null    int64  \n",
      " 11  caa       289 non-null    int64  \n",
      " 12  thall     289 non-null    int64  \n",
      " 13  output    289 non-null    int64  \n",
      "dtypes: float64(1), int64(13)\n",
      "memory usage: 31.7 KB\n"
     ]
    }
   ],
   "source": [
    "df5.info()"
   ]
  },
  {
   "cell_type": "markdown",
   "metadata": {},
   "source": [
    "Now to change the column/feature names so everything matches."
   ]
  },
  {
   "cell_type": "code",
   "execution_count": 609,
   "metadata": {},
   "outputs": [],
   "source": [
    "# Changing the feature names for data frame 1 which is the first dataset\n",
    "# I changed the names to be the same as the one in dataset 2\n",
    "df1.rename(columns={\n",
    "    'trtbps': 'trestbps',\n",
    "    'thalachh': 'thalach',\n",
    "    'exng': 'exang',\n",
    "    'slp': 'slope',\n",
    "    'caa': 'ca',\n",
    "    'thall': 'thal',\n",
    "    'output': 'target'\n",
    "}, inplace=True)"
   ]
  },
  {
   "cell_type": "code",
   "execution_count": 610,
   "metadata": {},
   "outputs": [],
   "source": [
    "# Changing the feature names for data frame 3 which is the third dataset\n",
    "df3.rename(columns={\n",
    "    'Age': 'age',\n",
    "    'Sex': 'sex',\n",
    "    'Chest pain type': 'cp',\n",
    "    'BP': 'trestbps',\n",
    "    'Cholesterol': 'chol',\n",
    "    'FBS over 120': 'fbs',\n",
    "    'EKG results': 'restecg',\n",
    "    'Max HR': 'thalach',\n",
    "    'Exercise angina': 'exang',\n",
    "    'ST depression': 'oldpeak',\n",
    "    'Slope of ST': 'slope',\n",
    "    'Number of vessels fluro': 'ca',\n",
    "    'Thallium': 'thal',\n",
    "    'Heart Disease': 'target'\n",
    "}, inplace=True)"
   ]
  },
  {
   "cell_type": "code",
   "execution_count": 611,
   "metadata": {},
   "outputs": [],
   "source": [
    "# Changing the feature names for data frame 4 which is the fourth dataset\n",
    "df4.rename(columns={\n",
    "    'num': 'target'\n",
    "}, inplace=True)"
   ]
  },
  {
   "cell_type": "code",
   "execution_count": 612,
   "metadata": {},
   "outputs": [],
   "source": [
    "# Changing the feature names for data frame 5 which is the fifth dataset\n",
    "df5.rename(columns={\n",
    "    'trtbps': 'trestbps',\n",
    "    'thalachh': 'thalach',\n",
    "    'exng': 'exang',\n",
    "    'slp': 'slope',\n",
    "    'caa': 'ca',\n",
    "    'thall': 'thal',\n",
    "    'output': 'target'\n",
    "}, inplace=True)"
   ]
  },
  {
   "cell_type": "code",
   "execution_count": 613,
   "metadata": {},
   "outputs": [
    {
     "name": "stdout",
     "output_type": "stream",
     "text": [
      "<class 'pandas.core.frame.DataFrame'>\n",
      "RangeIndex: 294 entries, 0 to 293\n",
      "Data columns (total 14 columns):\n",
      " #   Column    Non-Null Count  Dtype  \n",
      "---  ------    --------------  -----  \n",
      " 0   age       294 non-null    int64  \n",
      " 1   sex       294 non-null    int64  \n",
      " 2   cp        294 non-null    int64  \n",
      " 3   trestbps  294 non-null    object \n",
      " 4   chol      294 non-null    object \n",
      " 5   fbs       294 non-null    object \n",
      " 6   restecg   294 non-null    object \n",
      " 7   thalach   294 non-null    object \n",
      " 8   exang     294 non-null    object \n",
      " 9   oldpeak   294 non-null    float64\n",
      " 10  slope     294 non-null    object \n",
      " 11  ca        294 non-null    object \n",
      " 12  thal      28 non-null     float64\n",
      " 13  target    294 non-null    int64  \n",
      "dtypes: float64(2), int64(4), object(8)\n",
      "memory usage: 32.3+ KB\n"
     ]
    }
   ],
   "source": [
    "df4.info()"
   ]
  },
  {
   "cell_type": "code",
   "execution_count": 614,
   "metadata": {},
   "outputs": [
    {
     "name": "stdout",
     "output_type": "stream",
     "text": [
      "Features in df1: ['age', 'sex', 'cp', 'trestbps', 'chol', 'fbs', 'restecg', 'thalach', 'exang', 'oldpeak', 'slope', 'ca', 'thal', 'target']\n",
      "Features in df2: ['age', 'sex', 'cp', 'trestbps', 'chol', 'fbs', 'restecg', 'thalach', 'exang', 'oldpeak', 'slope', 'ca', 'thal', 'target']\n",
      "Features in df3: ['age', 'sex', 'cp', 'trestbps', 'chol', 'fbs', 'restecg', 'thalach', 'exang', 'oldpeak', 'slope', 'ca', 'thal', 'target']\n",
      "Features in df4: ['age', 'sex', 'cp', 'trestbps', 'chol', 'fbs', 'restecg', 'thalach', 'exang', 'oldpeak', 'slope', 'ca', 'thal', 'target']\n",
      "Features in df5: ['age', 'sex', 'cp', 'trestbps', 'chol', 'fbs', 'restecg', 'thalach', 'exang', 'oldpeak', 'slope', 'ca', 'thal', 'target']\n"
     ]
    }
   ],
   "source": [
    "print(\"Features in df1:\", df1.columns.tolist())\n",
    "print(\"Features in df2:\", df2.columns.tolist())\n",
    "print(\"Features in df3:\", df3.columns.tolist())\n",
    "print(\"Features in df4:\", df4.columns.tolist())\n",
    "print(\"Features in df5:\", df5.columns.tolist())"
   ]
  },
  {
   "cell_type": "markdown",
   "metadata": {},
   "source": [
    "All of the features have the same name now"
   ]
  },
  {
   "cell_type": "code",
   "execution_count": 615,
   "metadata": {},
   "outputs": [
    {
     "name": "stdout",
     "output_type": "stream",
     "text": [
      "Unique values in df1:\n",
      "age: [63 37 41 56 57 44 52 54 48 49 64 58 50 66 43 69 59 42 61 40 71 51 65 53\n",
      " 46 45 39 47 62 34 35 29 55 60 67 68 74 76 70 38 77]\n",
      "sex: [1 0]\n",
      "cp: [3 2 1 0]\n",
      "trestbps: [145 130 120 140 172 150 110 135 160 105 125 142 155 104 138 128 108 134\n",
      " 122 115 118 100 124  94 112 102 152 101 132 148 178 129 180 136 126 106\n",
      " 156 170 146 117 200 165 174 192 144 123 154 114 164]\n",
      "chol: [233 250 204 236 354 192 294 263 199 168 239 275 266 211 283 219 340 226\n",
      " 247 234 243 302 212 175 417 197 198 177 273 213 304 232 269 360 308 245\n",
      " 208 264 321 325 235 257 216 256 231 141 252 201 222 260 182 303 265 309\n",
      " 186 203 183 220 209 258 227 261 221 205 240 318 298 564 277 214 248 255\n",
      " 207 223 288 160 394 315 246 244 270 195 196 254 126 313 262 215 193 271\n",
      " 268 267 210 295 306 178 242 180 228 149 278 253 342 157 286 229 284 224\n",
      " 206 167 230 335 276 353 225 330 290 172 305 188 282 185 326 274 164 307\n",
      " 249 341 407 217 174 281 289 322 299 300 293 184 409 259 200 327 237 218\n",
      " 319 166 311 169 187 176 241 131]\n",
      "fbs: [1 0]\n",
      "restecg: [0 1 2]\n",
      "thalach: [150 187 172 178 163 148 153 173 162 174 160 139 171 144 158 114 151 161\n",
      " 179 137 157 123 152 168 140 188 125 170 165 142 180 143 182 156 115 149\n",
      " 146 175 186 185 159 130 190 132 147 154 202 166 164 184 122 169 138 111\n",
      " 145 194 131 133 155 167 192 121  96 126 105 181 116 108 129 120 112 128\n",
      " 109 113  99 177 141 136  97 127 103 124  88 195 106  95 117  71 118 134\n",
      "  90]\n",
      "exang: [0 1]\n",
      "oldpeak: [2.3 3.5 1.4 0.8 0.6 0.4 1.3 0.  0.5 1.6 1.2 0.2 1.8 1.  2.6 1.5 3.  2.4\n",
      " 0.1 1.9 4.2 1.1 2.  0.7 0.3 0.9 3.6 3.1 3.2 2.5 2.2 2.8 3.4 6.2 4.  5.6\n",
      " 2.9 2.1 3.8 4.4]\n",
      "slope: [0 2 1]\n",
      "ca: [0 2 1 3 4]\n",
      "thal: [1 2 3 0]\n",
      "target: [1 0]\n",
      "\n",
      "Unique values in df2:\n",
      "age: [52 53 70 61 62 58 55 46 54 71 43 34 51 50 60 67 45 63 42 44 56 57 59 64\n",
      " 65 41 66 38 49 48 29 37 47 68 76 40 39 77 69 35 74]\n",
      "sex: [1 0]\n",
      "cp: [0 1 2 3]\n",
      "trestbps: [125 140 145 148 138 100 114 160 120 122 112 132 118 128 124 106 104 135\n",
      " 130 136 180 129 150 178 146 117 152 154 170 134 174 144 108 123 110 142\n",
      " 126 192 115  94 200 165 102 105 155 172 164 156 101]\n",
      "chol: [212 203 174 294 248 318 289 249 286 149 341 210 298 204 308 266 244 211\n",
      " 185 223 208 252 209 307 233 319 256 327 169 131 269 196 231 213 271 263\n",
      " 229 360 258 330 342 226 228 278 230 283 241 175 188 217 193 245 232 299\n",
      " 288 197 315 215 164 326 207 177 257 255 187 201 220 268 267 236 303 282\n",
      " 126 309 186 275 281 206 335 218 254 295 417 260 240 302 192 225 325 235\n",
      " 274 234 182 167 172 321 300 199 564 157 304 222 184 354 160 247 239 246\n",
      " 409 293 180 250 221 200 227 243 311 261 242 205 306 219 353 198 394 183\n",
      " 237 224 265 313 340 259 270 216 264 276 322 214 273 253 176 284 305 168\n",
      " 407 290 277 262 195 166 178 141]\n",
      "fbs: [0 1]\n",
      "restecg: [1 0 2]\n",
      "thalach: [168 155 125 161 106 122 140 145 144 116 136 192 156 142 109 162 165 148\n",
      " 172 173 146 179 152 117 115 112 163 147 182 105 150 151 169 166 178 132\n",
      " 160 123 139 111 180 164 202 157 159 170 138 175 158 126 143 141 167  95\n",
      " 190 118 103 181 108 177 134 120 171 149 154 153  88 174 114 195 133  96\n",
      " 124 131 185 194 128 127 186 184 188 130  71 137  99 121 187  97  90 129\n",
      " 113]\n",
      "exang: [0 1]\n",
      "oldpeak: [1.  3.1 2.6 0.  1.9 4.4 0.8 3.2 1.6 3.  0.7 4.2 1.5 2.2 1.1 0.3 0.4 0.6\n",
      " 3.4 2.8 1.2 2.9 3.6 1.4 0.2 2.  5.6 0.9 1.8 6.2 4.  2.5 0.5 0.1 2.1 2.4\n",
      " 3.8 2.3 1.3 3.5]\n",
      "slope: [2 0 1]\n",
      "ca: [2 0 1 3 4]\n",
      "thal: [3 2 1 0]\n",
      "target: [0 1]\n",
      "\n",
      "Unique values in df3:\n",
      "age: [70 67 57 64 74 65 56 59 60 63 53 44 61 71 46 40 48 43 47 54 51 58 66 37\n",
      " 50 42 62 49 52 45 41 76 39 35 55 34 38 69 68 77 29]\n",
      "sex: [1 0]\n",
      "cp: [3 2 1 0]\n",
      "trestbps: [130 115 124 128 120 110 140 150 135 142 134 112 132 138 160 170 144 122\n",
      " 152 101 126 118 136 105 174 145 108 156 106 104  94 146 148 178 125 100\n",
      " 165 180 158 200 117 192 123 129 102 155 172]\n",
      "chol: [322 564 261 263 269 177 256 239 293 407 234 226 235 303 149 311 203 211\n",
      " 199 229 245 204 288 275 243 295 230 265 228 215 326 200 207 273 180 222\n",
      " 223 209 233 197 218 246 225 315 205 417 195 198 166 178 249 281 126 305\n",
      " 240 276 319 242 260 354 309 208 236 270 214 201 244 306 221 330 266 206\n",
      " 212 302 313 141 237 289 254 274 258 160 327 304 271 283 188 286 360 267\n",
      " 196 232 277 210 213 282 167 224 268 250 219 217 308 193 231 262 259 325\n",
      " 299 182 294 298 409 172 184 394 174 255 248 300 318 216 252 227 220 168\n",
      " 183 341 186 307 164 257 321 264 253 185 290 175 353 335 247 340 284 192]\n",
      "fbs: [0 1]\n",
      "restecg: [2 0 1]\n",
      "thalach: [109 160 141 105 121 140 142 170 154 161 111 180 145 159 125 120 155 144\n",
      " 178 129 181 143 139 152 157 165 130 150 138 126 186 163 179 156 134 177\n",
      " 114 184 175 168  96 103 173 169 171 112 149 116 147 148 128 164 108 118\n",
      " 151 133 162  71 124 166 117 153  88  99 158 132 172 192 182 195  95 167\n",
      " 122 174 131 146 115 106 194 187 202 127  97 136 190 185 113 188 123 137]\n",
      "exang: [0 1]\n",
      "oldpeak: [2.4 1.6 0.3 0.2 0.4 0.6 1.2 4.  0.5 0.  2.6 1.8 3.1 1.4 0.1 2.5 2.3 3.4\n",
      " 0.9 1.9 2.2 0.8 1.  3.6 1.1 3.  2.  1.5 4.2 3.2 0.7 5.6 3.8 2.1 2.9 2.8\n",
      " 3.5 6.2 1.3]\n",
      "slope: [1 0 2]\n",
      "ca: [3 0 1 2]\n",
      "thal: [1 3 2]\n",
      "target: [1 0]\n",
      "\n",
      "Unique values in df4:\n",
      "age: [28 29 30 31 32 33 34 35 36 37 38 39 40 41 42 43 44 45 46 47 48 49 50 51\n",
      " 52 53 54 55 56 57 58 59 60 61 62 63 65 66]\n",
      "sex: [1 0]\n",
      "cp: [1 0 2 3]\n",
      "trestbps: ['130' '120' '140' '170' '100' '105' '110' '125' '150' '98' '112' '145'\n",
      " '190' '160' '115' '142' '180' '132' '135' '?' '108' '124' '113' '122'\n",
      " '92' '118' '106' '200' '138' '136' '128' '155']\n",
      "chol: ['132' '243' '?' '237' '219' '198' '225' '254' '298' '161' '214' '220'\n",
      " '160' '167' '308' '264' '166' '340' '209' '260' '211' '173' '283' '194'\n",
      " '223' '315' '275' '297' '292' '182' '200' '204' '241' '339' '147' '273'\n",
      " '307' '289' '215' '281' '250' '184' '245' '291' '295' '269' '196' '268'\n",
      " '228' '358' '201' '249' '266' '186' '207' '218' '412' '224' '238' '230'\n",
      " '163' '240' '280' '257' '263' '276' '284' '195' '227' '253' '187' '202'\n",
      " '328' '168' '216' '129' '190' '188' '179' '210' '272' '180' '100' '259'\n",
      " '468' '274' '320' '221' '309' '312' '171' '208' '246' '305' '217' '365'\n",
      " '344' '394' '256' '326' '277' '270' '229' '85' '347' '251' '222' '287'\n",
      " '318' '213' '294' '193' '271' '156' '267' '282' '117' '466' '247' '226'\n",
      " '265' '206' '288' '303' '338' '248' '306' '529' '392' '231' '329' '355'\n",
      " '233' '242' '603' '255' '172' '175' '290' '341' '234' '342' '404' '518'\n",
      " '285' '279' '388' '164' '336' '491' '205' '212' '331' '393']\n",
      "fbs: ['0' '?' '1']\n",
      "restecg: ['2' '0' '1' '?']\n",
      "thalach: ['185' '160' '170' '150' '165' '184' '155' '190' '168' '180' '178' '172'\n",
      " '130' '142' '98' '158' '129' '146' '145' '120' '106' '132' '140' '138'\n",
      " '167' '188' '144' '137' '136' '152' '175' '176' '118' '154' '115' '135'\n",
      " '122' '110' '90' '116' '174' '125' '?' '148' '100' '164' '139' '127'\n",
      " '162' '112' '134' '114' '128' '126' '124' '153' '166' '103' '156' '87'\n",
      " '102' '92' '99' '121' '91' '108' '96' '82' '105' '143' '119' '94']\n",
      "exang: ['0' '1' '?']\n",
      "oldpeak: [0.  1.  2.  1.5 0.5 3.  0.8 2.5 4.  5. ]\n",
      "slope: ['?' '2' '1' '3']\n",
      "ca: ['?' '0']\n",
      "thal: [nan  2.  1.  3.]\n",
      "target: [0 1]\n",
      "\n",
      "Unique values in df5:\n",
      "age: [60 35 41 55 56 44 52 57 54 48 49 64 50 58 66 40 69 59 42 61 71 51 65 53\n",
      " 46 45 39 47 62 63 34 29 43 67 68 37 74 76 70 38 77]\n",
      "sex: [1 0]\n",
      "cp: [3 2 1 0]\n",
      "trestbps: [145 130 120 140 172 150 110 135 160 105 125 142 155 104 138 128 108 134\n",
      " 122 115 118 100 124  94 112 102 152 101 132 148 178 129 180 136 126 106\n",
      " 156 170 146 117 200 165 174 192 144 123 154]\n",
      "chol: [233 250 204 236 354 192 294 263 199 168 239 275 266 211 283 219 340 226\n",
      " 247 234 243 302 212 175 417 197 198 177 273 213 304 232 269 360 308 245\n",
      " 208 264 321 325 235 257 216 256 231 141 252 201 222 260 182 303 265 309\n",
      " 186 203 183 220 209 258 227 261 221 205 240 318 298 564 277 214 248 255\n",
      " 207 223 288 160 394 315 246 244 270 195 196 254 126 313 262 215 193 271\n",
      " 268 267 210 295 306 178 242 180 228 149 278 253 342 157 286 229 284 224\n",
      " 206 167 230 335 276 353 225 330 290 172 305 188 282 185 326 274 164 307\n",
      " 249 341 407 217 174 281 289 322 299 300 293 184 409 259 200 327 237 218\n",
      " 319 166 311]\n",
      "fbs: [1 0]\n",
      "restecg: [0 1 2]\n",
      "thalach: [150 187 172 178 163 148 153 173 162 174 160 139 171 144 158 114 151 161\n",
      " 179 137 157 123 152 168 140 188 125 170 165 142 180 143 182 156 115 149\n",
      " 146 175 186 185 159 130 190 132 147 154 202 166 164 184 122 169 138 111\n",
      " 145 194 131 133 155 167 192 121  96 126 105 181 116 108 129 120 112 128\n",
      " 109 113  99 177 141 136  97 127 103 124  88 195 106  95 117  71 118 134]\n",
      "exang: [0 1]\n",
      "oldpeak: [2.3 3.5 1.4 0.8 0.6 0.4 1.3 0.  0.5 1.6 1.2 0.2 1.8 1.  2.6 1.5 3.  2.4\n",
      " 0.1 1.9 4.2 1.1 2.  0.7 0.3 0.9 3.6 3.1 3.2 2.5 2.2 2.8 3.4 6.2 4.  5.6\n",
      " 2.9 2.1 3.8]\n",
      "slope: [0 2 1]\n",
      "ca: [0 2 1 3 4]\n",
      "thal: [1 2 3 0]\n",
      "target: [1 0]\n",
      "\n"
     ]
    }
   ],
   "source": [
    "#To check if the features in all the data frames have the same range in case I missed some features that need to be transformed\n",
    "dataframes = [df1, df2, df3, df4, df5]\n",
    "df_names = ['df1', 'df2', 'df3', 'df4', 'df5']\n",
    "\n",
    "# This will loop through each df and and tell me the unique values for each feature\n",
    "for df, name in zip(dataframes, df_names):\n",
    "    print(f\"Unique values in {name}:\")\n",
    "    for column in df.columns:\n",
    "        print(f\"{column}: {df[column].unique()}\")\n",
    "    print()  "
   ]
  },
  {
   "cell_type": "markdown",
   "metadata": {},
   "source": [
    "I will replace ? values to NaN to signify it as missing values"
   ]
  },
  {
   "cell_type": "code",
   "execution_count": 616,
   "metadata": {},
   "outputs": [],
   "source": [
    "df4.replace(\"?\", np.nan, inplace=True)"
   ]
  },
  {
   "cell_type": "code",
   "execution_count": 617,
   "metadata": {},
   "outputs": [
    {
     "name": "stdout",
     "output_type": "stream",
     "text": [
      "<class 'pandas.core.frame.DataFrame'>\n",
      "RangeIndex: 303 entries, 0 to 302\n",
      "Data columns (total 14 columns):\n",
      " #   Column    Non-Null Count  Dtype  \n",
      "---  ------    --------------  -----  \n",
      " 0   age       303 non-null    int64  \n",
      " 1   sex       303 non-null    int64  \n",
      " 2   cp        303 non-null    int64  \n",
      " 3   trestbps  303 non-null    int64  \n",
      " 4   chol      303 non-null    int64  \n",
      " 5   fbs       303 non-null    int64  \n",
      " 6   restecg   303 non-null    int64  \n",
      " 7   thalach   303 non-null    int64  \n",
      " 8   exang     303 non-null    int64  \n",
      " 9   oldpeak   303 non-null    float64\n",
      " 10  slope     303 non-null    int64  \n",
      " 11  ca        303 non-null    int64  \n",
      " 12  thal      303 non-null    int64  \n",
      " 13  target    303 non-null    int64  \n",
      "dtypes: float64(1), int64(13)\n",
      "memory usage: 33.3 KB\n",
      "<class 'pandas.core.frame.DataFrame'>\n",
      "RangeIndex: 1025 entries, 0 to 1024\n",
      "Data columns (total 14 columns):\n",
      " #   Column    Non-Null Count  Dtype  \n",
      "---  ------    --------------  -----  \n",
      " 0   age       1025 non-null   int64  \n",
      " 1   sex       1025 non-null   int64  \n",
      " 2   cp        1025 non-null   int64  \n",
      " 3   trestbps  1025 non-null   int64  \n",
      " 4   chol      1025 non-null   int64  \n",
      " 5   fbs       1025 non-null   int64  \n",
      " 6   restecg   1025 non-null   int64  \n",
      " 7   thalach   1025 non-null   int64  \n",
      " 8   exang     1025 non-null   int64  \n",
      " 9   oldpeak   1025 non-null   float64\n",
      " 10  slope     1025 non-null   int64  \n",
      " 11  ca        1025 non-null   int64  \n",
      " 12  thal      1025 non-null   int64  \n",
      " 13  target    1025 non-null   int64  \n",
      "dtypes: float64(1), int64(13)\n",
      "memory usage: 112.2 KB\n",
      "<class 'pandas.core.frame.DataFrame'>\n",
      "RangeIndex: 270 entries, 0 to 269\n",
      "Data columns (total 14 columns):\n",
      " #   Column    Non-Null Count  Dtype  \n",
      "---  ------    --------------  -----  \n",
      " 0   age       270 non-null    int64  \n",
      " 1   sex       270 non-null    int64  \n",
      " 2   cp        270 non-null    int64  \n",
      " 3   trestbps  270 non-null    int64  \n",
      " 4   chol      270 non-null    int64  \n",
      " 5   fbs       270 non-null    int64  \n",
      " 6   restecg   270 non-null    int64  \n",
      " 7   thalach   270 non-null    int64  \n",
      " 8   exang     270 non-null    int64  \n",
      " 9   oldpeak   270 non-null    float64\n",
      " 10  slope     270 non-null    int64  \n",
      " 11  ca        270 non-null    int64  \n",
      " 12  thal      270 non-null    int64  \n",
      " 13  target    270 non-null    int64  \n",
      "dtypes: float64(1), int64(13)\n",
      "memory usage: 29.7 KB\n",
      "<class 'pandas.core.frame.DataFrame'>\n",
      "RangeIndex: 294 entries, 0 to 293\n",
      "Data columns (total 14 columns):\n",
      " #   Column    Non-Null Count  Dtype  \n",
      "---  ------    --------------  -----  \n",
      " 0   age       294 non-null    int64  \n",
      " 1   sex       294 non-null    int64  \n",
      " 2   cp        294 non-null    int64  \n",
      " 3   trestbps  293 non-null    object \n",
      " 4   chol      271 non-null    object \n",
      " 5   fbs       286 non-null    object \n",
      " 6   restecg   293 non-null    object \n",
      " 7   thalach   293 non-null    object \n",
      " 8   exang     293 non-null    object \n",
      " 9   oldpeak   294 non-null    float64\n",
      " 10  slope     104 non-null    object \n",
      " 11  ca        3 non-null      object \n",
      " 12  thal      28 non-null     float64\n",
      " 13  target    294 non-null    int64  \n",
      "dtypes: float64(2), int64(4), object(8)\n",
      "memory usage: 32.3+ KB\n",
      "<class 'pandas.core.frame.DataFrame'>\n",
      "RangeIndex: 289 entries, 0 to 288\n",
      "Data columns (total 14 columns):\n",
      " #   Column    Non-Null Count  Dtype  \n",
      "---  ------    --------------  -----  \n",
      " 0   age       289 non-null    int64  \n",
      " 1   sex       289 non-null    int64  \n",
      " 2   cp        289 non-null    int64  \n",
      " 3   trestbps  289 non-null    int64  \n",
      " 4   chol      289 non-null    int64  \n",
      " 5   fbs       289 non-null    int64  \n",
      " 6   restecg   289 non-null    int64  \n",
      " 7   thalach   289 non-null    int64  \n",
      " 8   exang     289 non-null    int64  \n",
      " 9   oldpeak   289 non-null    float64\n",
      " 10  slope     289 non-null    int64  \n",
      " 11  ca        289 non-null    int64  \n",
      " 12  thal      289 non-null    int64  \n",
      " 13  target    289 non-null    int64  \n",
      "dtypes: float64(1), int64(13)\n",
      "memory usage: 31.7 KB\n"
     ]
    }
   ],
   "source": [
    "df1.info()\n",
    "df2.info()\n",
    "df3.info()\n",
    "df4.info()\n",
    "df5.info()"
   ]
  },
  {
   "cell_type": "markdown",
   "metadata": {},
   "source": [
    "Based on the output of the code above, I need to change the following feature types:\n",
    "- trestbps feature in df4 from object to int64\n",
    "- chol feature in df4 from object to int64\n",
    "- fbs feature in df4 from object to int64\n",
    "- restecg feature in df4 from object to int64\n",
    "- thalach feature in df4 from object to int64\n",
    "- examg feature in df4 from object to int64\n",
    "- slope feature in df4 from object to int64\n",
    "- ca feature in df4 from object to int64\n",
    "- thal feature in df4 from float64 to int64"
   ]
  },
  {
   "cell_type": "code",
   "execution_count": 618,
   "metadata": {},
   "outputs": [
    {
     "name": "stdout",
     "output_type": "stream",
     "text": [
      "Int64\n",
      "<IntegerArray>\n",
      "[ 130,  120,  140,  170,  100,  105,  110,  125,  150,   98,  112,  145,  190,\n",
      "  160,  115,  142,  180,  132,  135, <NA>,  108,  124,  113,  122,   92,  118,\n",
      "  106,  200,  138,  136,  128,  155]\n",
      "Length: 32, dtype: Int64\n"
     ]
    }
   ],
   "source": [
    "# makes sure that the data in the column is either nan or numerical and othervise makes it nan\n",
    "df4['trestbps'] = pd.to_numeric(df4['trestbps'], errors='coerce')\n",
    "# Changing the actual data type of the colum into Int64\n",
    "df4['trestbps'] = df4['trestbps'].astype('Int64')\n",
    "\n",
    "# Making sure it worked\n",
    "print(df4['trestbps'].dtype)\n",
    "print(df4['trestbps'].unique())"
   ]
  },
  {
   "cell_type": "code",
   "execution_count": 619,
   "metadata": {},
   "outputs": [
    {
     "name": "stdout",
     "output_type": "stream",
     "text": [
      "chol dtype: Int64\n",
      "Unique values in chol: <IntegerArray>\n",
      "[ 132,  243, <NA>,  237,  219,  198,  225,  254,  298,  161,\n",
      " ...\n",
      "  285,  279,  388,  164,  336,  491,  205,  212,  331,  393]\n",
      "Length: 154, dtype: Int64\n",
      "fbs dtype: Int64\n",
      "Unique values in fbs: <IntegerArray>\n",
      "[0, <NA>, 1]\n",
      "Length: 3, dtype: Int64\n",
      "restecg dtype: Int64\n",
      "Unique values in restecg: <IntegerArray>\n",
      "[2, 0, 1, <NA>]\n",
      "Length: 4, dtype: Int64\n",
      "thalach dtype: Int64\n",
      "Unique values in thalach: <IntegerArray>\n",
      "[ 185,  160,  170,  150,  165,  184,  155,  190,  168,  180,  178,  172,  130,\n",
      "  142,   98,  158,  129,  146,  145,  120,  106,  132,  140,  138,  167,  188,\n",
      "  144,  137,  136,  152,  175,  176,  118,  154,  115,  135,  122,  110,   90,\n",
      "  116,  174,  125, <NA>,  148,  100,  164,  139,  127,  162,  112,  134,  114,\n",
      "  128,  126,  124,  153,  166,  103,  156,   87,  102,   92,   99,  121,   91,\n",
      "  108,   96,   82,  105,  143,  119,   94]\n",
      "Length: 72, dtype: Int64\n",
      "exang dtype: Int64\n",
      "Unique values in exang: <IntegerArray>\n",
      "[0, 1, <NA>]\n",
      "Length: 3, dtype: Int64\n",
      "slope dtype: Int64\n",
      "Unique values in slope: <IntegerArray>\n",
      "[<NA>, 2, 1, 3]\n",
      "Length: 4, dtype: Int64\n",
      "ca dtype: Int64\n",
      "Unique values in ca: <IntegerArray>\n",
      "[<NA>, 0]\n",
      "Length: 2, dtype: Int64\n",
      "thal dtype: Int64\n",
      "Unique values in thal: <IntegerArray>\n",
      "[<NA>, 2, 1, 3]\n",
      "Length: 4, dtype: Int64\n"
     ]
    }
   ],
   "source": [
    "# I put all of the feature names in a list \n",
    "columns_to_convert = ['chol', 'fbs', 'restecg', 'thalach', 'exang', 'slope', 'ca', 'thal']\n",
    "\n",
    "# The for loop goes through each column in the list and converts it to numeric (coercing errors to NaN), then convert to Int64\n",
    "for column in columns_to_convert:\n",
    "    df4[column] = pd.to_numeric(df4[column], errors='coerce')\n",
    "    df4[column] = df4[column].astype('Int64')\n",
    "\n",
    "# To check if it worked properly\n",
    "for column in columns_to_convert:\n",
    "    print(f\"{column} dtype: {df4[column].dtype}\")\n",
    "    print(f\"Unique values in {column}: {df4[column].unique()}\")"
   ]
  },
  {
   "cell_type": "code",
   "execution_count": 620,
   "metadata": {},
   "outputs": [
    {
     "name": "stdout",
     "output_type": "stream",
     "text": [
      "Unique values in df1 for 'slope': [0 2 1]\n",
      "Unique values in df2 for 'slope': [2 0 1]\n",
      "Unique values in df3 for 'slope': [1 0 2]\n",
      "Unique values in df4 for 'slope': <IntegerArray>\n",
      "[<NA>, 2, 1, 3]\n",
      "Length: 4, dtype: Int64\n",
      "Unique values in df5 for 'slope': [0 2 1]\n"
     ]
    }
   ],
   "source": [
    "# Print unique values of 'slope' in each DataFrame\n",
    "print(\"Unique values in df1 for 'slope':\", df1['slope'].unique())\n",
    "print(\"Unique values in df2 for 'slope':\", df2['slope'].unique())\n",
    "print(\"Unique values in df3 for 'slope':\", df3['slope'].unique())\n",
    "print(\"Unique values in df4 for 'slope':\", df4['slope'].unique())\n",
    "print(\"Unique values in df5 for 'slope':\", df5['slope'].unique())\n"
   ]
  },
  {
   "cell_type": "markdown",
   "metadata": {},
   "source": [
    "I also need to change the values for slope in df4"
   ]
  },
  {
   "cell_type": "code",
   "execution_count": 621,
   "metadata": {},
   "outputs": [
    {
     "name": "stdout",
     "output_type": "stream",
     "text": [
      "slope\n",
      "1    91\n",
      "0    12\n",
      "2     1\n",
      "Name: count, dtype: Int64\n"
     ]
    }
   ],
   "source": [
    "replacement_map = {\n",
    "    1: 0,\n",
    "    2: 1,\n",
    "    3: 2\n",
    "}\n",
    "df4['slope'] = df4['slope'].replace(replacement_map)\n",
    "print(df4['slope'].value_counts())"
   ]
  },
  {
   "cell_type": "code",
   "execution_count": 622,
   "metadata": {},
   "outputs": [
    {
     "name": "stdout",
     "output_type": "stream",
     "text": [
      "Unique values in df1 for 'ca': [0 2 1 3 4]\n",
      "Unique values in df2 for 'ca': [2 0 1 3 4]\n",
      "Unique values in df3 for 'ca': [3 0 1 2]\n",
      "Unique values in df4 for 'ca': <IntegerArray>\n",
      "[<NA>, 0]\n",
      "Length: 2, dtype: Int64\n",
      "Unique values in df5 for 'ca': [0 2 1 3 4]\n"
     ]
    }
   ],
   "source": [
    "# Print unique values of 'ca' in each DataFrame\n",
    "print(\"Unique values in df1 for 'ca':\", df1['ca'].unique())\n",
    "print(\"Unique values in df2 for 'ca':\", df2['ca'].unique())\n",
    "print(\"Unique values in df3 for 'ca':\", df3['ca'].unique())\n",
    "print(\"Unique values in df4 for 'ca':\", df4['ca'].unique())\n",
    "print(\"Unique values in df5 for 'ca':\", df5['ca'].unique())"
   ]
  },
  {
   "cell_type": "code",
   "execution_count": 623,
   "metadata": {},
   "outputs": [
    {
     "name": "stdout",
     "output_type": "stream",
     "text": [
      "Unique values in df1 for 'thal': [1 2 3 0]\n",
      "Unique values in df2 for 'thal': [3 2 1 0]\n",
      "Unique values in df3 for 'thal': [1 3 2]\n",
      "Unique values in df4 for 'thal': <IntegerArray>\n",
      "[<NA>, 2, 1, 3]\n",
      "Length: 4, dtype: Int64\n",
      "Unique values in df5 for 'thal': [1 2 3 0]\n"
     ]
    }
   ],
   "source": [
    "# Print unique values of 'thal' in each DataFrame\n",
    "print(\"Unique values in df1 for 'thal':\", df1['thal'].unique())\n",
    "print(\"Unique values in df2 for 'thal':\", df2['thal'].unique())\n",
    "print(\"Unique values in df3 for 'thal':\", df3['thal'].unique())\n",
    "print(\"Unique values in df4 for 'thal':\", df4['thal'].unique())\n",
    "print(\"Unique values in df5 for 'thal':\", df5['thal'].unique())"
   ]
  },
  {
   "cell_type": "code",
   "execution_count": 624,
   "metadata": {},
   "outputs": [],
   "source": [
    "df1.to_csv('df1.csv', index=False)\n",
    "df2.to_csv('df2.csv', index=False)\n",
    "df3.to_csv('df3.csv', index=False)\n",
    "df4.to_csv('df4.csv', index=False)\n",
    "df5.to_csv('df5.csv', index=False)"
   ]
  },
  {
   "cell_type": "markdown",
   "metadata": {},
   "source": [
    "Now that I have converted everything, I will merge the data frames into one using concatination"
   ]
  },
  {
   "cell_type": "code",
   "execution_count": 625,
   "metadata": {},
   "outputs": [],
   "source": [
    "dataframes = [df1, df2, df3, df4, df5]\n",
    "merged_df = pd.concat(dataframes, ignore_index=True)\n"
   ]
  },
  {
   "cell_type": "code",
   "execution_count": 626,
   "metadata": {},
   "outputs": [
    {
     "name": "stdout",
     "output_type": "stream",
     "text": [
      "Merged DataFrame shape: (2181, 14)\n"
     ]
    }
   ],
   "source": [
    "print(\"Merged DataFrame shape:\", merged_df.shape)"
   ]
  },
  {
   "cell_type": "code",
   "execution_count": 627,
   "metadata": {},
   "outputs": [
    {
     "name": "stdout",
     "output_type": "stream",
     "text": [
      "<class 'pandas.core.frame.DataFrame'>\n",
      "RangeIndex: 2181 entries, 0 to 2180\n",
      "Data columns (total 14 columns):\n",
      " #   Column    Non-Null Count  Dtype  \n",
      "---  ------    --------------  -----  \n",
      " 0   age       2181 non-null   int64  \n",
      " 1   sex       2181 non-null   int64  \n",
      " 2   cp        2181 non-null   int64  \n",
      " 3   trestbps  2180 non-null   Int64  \n",
      " 4   chol      2158 non-null   Int64  \n",
      " 5   fbs       2173 non-null   Int64  \n",
      " 6   restecg   2180 non-null   Int64  \n",
      " 7   thalach   2180 non-null   Int64  \n",
      " 8   exang     2180 non-null   Int64  \n",
      " 9   oldpeak   2181 non-null   float64\n",
      " 10  slope     1991 non-null   Int64  \n",
      " 11  ca        1890 non-null   Int64  \n",
      " 12  thal      1915 non-null   Int64  \n",
      " 13  target    2181 non-null   int64  \n",
      "dtypes: Int64(9), float64(1), int64(4)\n",
      "memory usage: 257.8 KB\n"
     ]
    }
   ],
   "source": [
    "merged_df.info()"
   ]
  },
  {
   "cell_type": "code",
   "execution_count": 628,
   "metadata": {},
   "outputs": [],
   "source": [
    "merged_df.to_csv('merged_df.csv', index=False)"
   ]
  },
  {
   "cell_type": "code",
   "execution_count": 629,
   "metadata": {},
   "outputs": [
    {
     "name": "stdout",
     "output_type": "stream",
     "text": [
      "age           0\n",
      "sex           0\n",
      "cp            0\n",
      "trestbps      1\n",
      "chol         23\n",
      "fbs           8\n",
      "restecg       1\n",
      "thalach       1\n",
      "exang         1\n",
      "oldpeak       0\n",
      "slope       190\n",
      "ca          291\n",
      "thal        266\n",
      "target        0\n",
      "dtype: int64\n"
     ]
    }
   ],
   "source": [
    "missing_values = merged_df.isna().sum()\n",
    "print(missing_values)"
   ]
  },
  {
   "cell_type": "code",
   "execution_count": 630,
   "metadata": {},
   "outputs": [
    {
     "name": "stdout",
     "output_type": "stream",
     "text": [
      "age          0.000000\n",
      "sex          0.000000\n",
      "cp           0.000000\n",
      "trestbps     0.045851\n",
      "chol         1.054562\n",
      "fbs          0.366804\n",
      "restecg      0.045851\n",
      "thalach      0.045851\n",
      "exang        0.045851\n",
      "oldpeak      0.000000\n",
      "slope        8.711600\n",
      "ca          13.342503\n",
      "thal        12.196240\n",
      "target       0.000000\n",
      "dtype: float64\n"
     ]
    }
   ],
   "source": [
    "total_entries = len(merged_df)\n",
    "missing_percentages = (merged_df.isna().sum() / total_entries) * 100\n",
    "print(missing_percentages)"
   ]
  },
  {
   "cell_type": "markdown",
   "metadata": {},
   "source": [
    "None of my features have more than 14% missing data. The feature that has the largest amount of missing data is ca."
   ]
  },
  {
   "cell_type": "code",
   "execution_count": 631,
   "metadata": {},
   "outputs": [
    {
     "name": "stdout",
     "output_type": "stream",
     "text": [
      "Class balance in the target feature:\n",
      "target\n",
      "0    1099\n",
      "1    1082\n",
      "Name: count, dtype: int64\n",
      "\n",
      "Class balance in the target feature in %:\n",
      "target\n",
      "0    50.389729\n",
      "1    49.610271\n",
      "Name: count, dtype: float64\n"
     ]
    }
   ],
   "source": [
    "# To count how many times 1 and 0 appear in the target feature\n",
    "class_balance = merged_df['target'].value_counts()\n",
    "\n",
    "# To calculate the percentage of each class\n",
    "class_percentage = (class_balance / len(merged_df) * 100)\n",
    "\n",
    "print(\"Class balance in the target feature:\")\n",
    "print(class_balance)\n",
    "print(\"\\nClass balance in the target feature in %:\")\n",
    "print(class_percentage)"
   ]
  },
  {
   "cell_type": "markdown",
   "metadata": {},
   "source": [
    "I checked the class balance of the target feature, now I will check for other categorical features."
   ]
  },
  {
   "cell_type": "code",
   "execution_count": 632,
   "metadata": {},
   "outputs": [
    {
     "name": "stdout",
     "output_type": "stream",
     "text": [
      "Class balance for sex (count):\n",
      "sex\n",
      "1    1512\n",
      "0     669\n",
      "Name: count, dtype: int64\n",
      "Class balance for sex (percentage):\n",
      "sex\n",
      "1    69.33\n",
      "0    30.67\n",
      "Name: count, dtype: float64\n",
      "\n",
      "\n",
      "Class balance for cp (count):\n",
      "cp\n",
      "0    797\n",
      "2    590\n",
      "1    419\n",
      "3    375\n",
      "Name: count, dtype: int64\n",
      "Class balance for cp (percentage):\n",
      "cp\n",
      "0    36.54\n",
      "2    27.05\n",
      "1    19.21\n",
      "3    17.19\n",
      "Name: count, dtype: float64\n",
      "\n",
      "\n",
      "Class balance for fbs (count):\n",
      "fbs\n",
      "0    1873\n",
      "1     300\n",
      "Name: count, dtype: Int64\n",
      "Class balance for fbs (percentage):\n",
      "fbs\n",
      "0    85.88\n",
      "1    13.76\n",
      "Name: count, dtype: Float64\n",
      "\n",
      "\n",
      "Class balance for restecg (count):\n",
      "restecg\n",
      "0    1152\n",
      "1     864\n",
      "2     164\n",
      "Name: count, dtype: Int64\n",
      "Class balance for restecg (percentage):\n",
      "restecg\n",
      "0    52.82\n",
      "1    39.61\n",
      "2     7.52\n",
      "Name: count, dtype: Float64\n",
      "\n",
      "\n",
      "Class balance for exang (count):\n",
      "exang\n",
      "0    1466\n",
      "1     714\n",
      "Name: count, dtype: Int64\n",
      "Class balance for exang (percentage):\n",
      "exang\n",
      "0    67.22\n",
      "1    32.74\n",
      "Name: count, dtype: Float64\n",
      "\n",
      "\n",
      "Class balance for slope (count):\n",
      "slope\n",
      "1    965\n",
      "2    770\n",
      "0    256\n",
      "Name: count, dtype: Int64\n",
      "Class balance for slope (percentage):\n",
      "slope\n",
      "1    44.25\n",
      "2     35.3\n",
      "0    11.74\n",
      "Name: count, dtype: Float64\n",
      "\n",
      "\n",
      "Class balance for ca (count):\n",
      "ca\n",
      "0    1086\n",
      "1     410\n",
      "2     239\n",
      "3     127\n",
      "4      28\n",
      "Name: count, dtype: Int64\n",
      "Class balance for ca (percentage):\n",
      "ca\n",
      "0    49.79\n",
      "1     18.8\n",
      "2    10.96\n",
      "3     5.82\n",
      "4     1.28\n",
      "Name: count, dtype: Float64\n",
      "\n",
      "\n",
      "Class balance for thal (count):\n",
      "thal\n",
      "2    898\n",
      "3    751\n",
      "1    255\n",
      "0     11\n",
      "Name: count, dtype: Int64\n",
      "Class balance for thal (percentage):\n",
      "thal\n",
      "2    41.17\n",
      "3    34.43\n",
      "1    11.69\n",
      "0      0.5\n",
      "Name: count, dtype: Float64\n",
      "\n",
      "\n"
     ]
    }
   ],
   "source": [
    "categorical_features = ['sex', 'cp', 'fbs', 'restecg', 'exang', 'slope', 'ca', 'thal']\n",
    "for feature in categorical_features:\n",
    "    class_balance = merged_df[feature].value_counts()\n",
    "   \n",
    "    percentages = (class_balance / len(merged_df) * 100).round(2)  \n",
    "    # I rounded it for beter uniformity\n",
    "    print(f\"Class balance for {feature} (count):\")\n",
    "    print(class_balance)\n",
    "    print(f\"Class balance for {feature} (percentage):\")\n",
    "    print(percentages)\n",
    "    print(\"\\n\")  # Adding a new line for better separation between features"
   ]
  },
  {
   "cell_type": "code",
   "execution_count": 633,
   "metadata": {},
   "outputs": [
    {
     "name": "stdout",
     "output_type": "stream",
     "text": [
      "Number of rows with 'thal' equal to 0: 0\n",
      "Shape of DataFrame after filtering: (2170, 14)\n"
     ]
    }
   ],
   "source": [
    "merged_df = merged_df.drop(merged_df[merged_df['thal'] == 0].index)\n",
    "\n",
    "# Verify the operation by checking if there are any rows with 'thal' equal to 0\n",
    "print(\"Number of rows with 'thal' equal to 0:\", (merged_df['thal'] == 0).sum())\n",
    "print(\"Shape of DataFrame after filtering:\", merged_df.shape)"
   ]
  },
  {
   "cell_type": "code",
   "execution_count": 634,
   "metadata": {},
   "outputs": [],
   "source": [
    "merged_df.to_csv('merged_df.csv', index=False)"
   ]
  },
  {
   "cell_type": "code",
   "execution_count": 635,
   "metadata": {},
   "outputs": [
    {
     "name": "stdout",
     "output_type": "stream",
     "text": [
      "Number of rows with 'ca' equal to 4: 28\n"
     ]
    }
   ],
   "source": [
    "print(\"Number of rows with 'ca' equal to 4:\", (merged_df['ca'] == 4).sum())"
   ]
  },
  {
   "cell_type": "code",
   "execution_count": 636,
   "metadata": {},
   "outputs": [
    {
     "name": "stdout",
     "output_type": "stream",
     "text": [
      "Number of rows with 'ca' equal to 4: 0\n"
     ]
    }
   ],
   "source": [
    "merged_df = merged_df.drop(merged_df[merged_df['ca'] == 4].index)\n",
    "print(\"Number of rows with 'ca' equal to 4:\", (merged_df['ca'] == 4).sum())"
   ]
  }
 ],
 "metadata": {
  "kernelspec": {
   "display_name": "Python 3",
   "language": "python",
   "name": "python3"
  },
  "language_info": {
   "codemirror_mode": {
    "name": "ipython",
    "version": 3
   },
   "file_extension": ".py",
   "mimetype": "text/x-python",
   "name": "python",
   "nbconvert_exporter": "python",
   "pygments_lexer": "ipython3",
   "version": "3.11.9"
  }
 },
 "nbformat": 4,
 "nbformat_minor": 2
}
