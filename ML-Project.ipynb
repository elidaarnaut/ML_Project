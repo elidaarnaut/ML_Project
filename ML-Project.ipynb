{
 "cells": [
  {
   "cell_type": "code",
   "execution_count": null,
   "metadata": {},
   "outputs": [],
   "source": [
    "#ML Project"
   ]
  },
  {
   "cell_type": "markdown",
   "metadata": {},
   "source": [
    "Dataset: Heart Disease Dataset\n",
    "Source: Kaggle"
   ]
  },
  {
   "cell_type": "code",
   "execution_count": 3,
   "metadata": {},
   "outputs": [],
   "source": [
    "import pandas as pd"
   ]
  },
  {
   "cell_type": "code",
   "execution_count": 150,
   "metadata": {},
   "outputs": [],
   "source": [
    "df = pd.read_csv(r'Dataset\\raw_merged_heart_dataset.csv')"
   ]
  },
  {
   "cell_type": "code",
   "execution_count": 151,
   "metadata": {},
   "outputs": [
    {
     "name": "stdout",
     "output_type": "stream",
     "text": [
      "   age  sex  cp trestbps chol fbs restecg thalachh exang  oldpeak slope ca  \\\n",
      "0   63    1   3      145  233   1       0      150     0      2.3     0  0   \n",
      "1   37    1   2      130  250   0       1      187     0      3.5     0  0   \n",
      "2   41    0   1      130  204   0       0      172     0      1.4     2  0   \n",
      "3   56    1   1      120  236   0       1      178     0      0.8     2  0   \n",
      "4   57    0   0      120  354   0       1      163     1      0.6     2  0   \n",
      "\n",
      "  thal  target  \n",
      "0    1       1  \n",
      "1    2       1  \n",
      "2    2       1  \n",
      "3    2       1  \n",
      "4    2       1  \n"
     ]
    }
   ],
   "source": [
    "print(df.head())"
   ]
  },
  {
   "cell_type": "code",
   "execution_count": 152,
   "metadata": {},
   "outputs": [
    {
     "name": "stdout",
     "output_type": "stream",
     "text": [
      "<class 'pandas.core.frame.DataFrame'>\n",
      "RangeIndex: 2181 entries, 0 to 2180\n",
      "Data columns (total 14 columns):\n",
      " #   Column    Non-Null Count  Dtype  \n",
      "---  ------    --------------  -----  \n",
      " 0   age       2181 non-null   int64  \n",
      " 1   sex       2181 non-null   int64  \n",
      " 2   cp        2181 non-null   int64  \n",
      " 3   trestbps  2181 non-null   object \n",
      " 4   chol      2181 non-null   object \n",
      " 5   fbs       2181 non-null   object \n",
      " 6   restecg   2181 non-null   object \n",
      " 7   thalachh  2181 non-null   object \n",
      " 8   exang     2181 non-null   object \n",
      " 9   oldpeak   2181 non-null   float64\n",
      " 10  slope     2181 non-null   object \n",
      " 11  ca        2181 non-null   object \n",
      " 12  thal      2181 non-null   object \n",
      " 13  target    2181 non-null   int64  \n",
      "dtypes: float64(1), int64(4), object(9)\n",
      "memory usage: 238.7+ KB\n",
      "None\n"
     ]
    }
   ],
   "source": [
    "print(df.info())"
   ]
  },
  {
   "cell_type": "code",
   "execution_count": 153,
   "metadata": {},
   "outputs": [
    {
     "name": "stdout",
     "output_type": "stream",
     "text": [
      "               age          sex           cp      oldpeak       target\n",
      "count  2181.000000  2181.000000  2181.000000  2181.000000  2181.000000\n",
      "mean     53.477762     0.693260     1.507565     0.990509     0.496103\n",
      "std       9.194787     0.461246     1.371587     1.141851     0.500099\n",
      "min      28.000000     0.000000     0.000000     0.000000     0.000000\n",
      "25%      46.000000     0.000000     0.000000     0.000000     0.000000\n",
      "50%      54.000000     1.000000     2.000000     0.600000     0.000000\n",
      "75%      60.000000     1.000000     2.000000     1.600000     1.000000\n",
      "max      77.000000     1.000000     4.000000     6.200000     1.000000\n"
     ]
    }
   ],
   "source": [
    "print(df.describe())"
   ]
  },
  {
   "cell_type": "code",
   "execution_count": 154,
   "metadata": {},
   "outputs": [
    {
     "name": "stdout",
     "output_type": "stream",
     "text": [
      "age         0\n",
      "sex         0\n",
      "cp          0\n",
      "trestbps    0\n",
      "chol        0\n",
      "fbs         0\n",
      "restecg     0\n",
      "thalachh    0\n",
      "exang       0\n",
      "oldpeak     0\n",
      "slope       0\n",
      "ca          0\n",
      "thal        0\n",
      "target      0\n",
      "dtype: int64\n"
     ]
    }
   ],
   "source": [
    "print(df.isnull().sum())"
   ]
  },
  {
   "cell_type": "markdown",
   "metadata": {},
   "source": [
    "Although the code says there are no missing values, while exploring the dataset manually I noticed that the missing values are marked as ? so I will go through each feature and see what are the distinct values and if there are any ?"
   ]
  },
  {
   "cell_type": "code",
   "execution_count": 155,
   "metadata": {},
   "outputs": [
    {
     "name": "stdout",
     "output_type": "stream",
     "text": [
      "Number of '?' in the 'age' column: 0\n"
     ]
    }
   ],
   "source": [
    "age_question_marks = (df['age'] == '?').sum()\n",
    "print(f\"Number of '?' in the 'age' column: {age_question_marks}\")"
   ]
  },
  {
   "cell_type": "code",
   "execution_count": 156,
   "metadata": {},
   "outputs": [
    {
     "name": "stdout",
     "output_type": "stream",
     "text": [
      "Number of '?' in the 'sex' column: 0\n"
     ]
    }
   ],
   "source": [
    "sex_question_marks = (df['sex'] == '?').sum()\n",
    "print(f\"Number of '?' in the 'sex' column: {sex_question_marks}\")"
   ]
  },
  {
   "cell_type": "code",
   "execution_count": 157,
   "metadata": {},
   "outputs": [
    {
     "name": "stdout",
     "output_type": "stream",
     "text": [
      "Number of '?' in the 'cp' column: 0\n"
     ]
    }
   ],
   "source": [
    "cp_question_marks = (df['cp'] == '?').sum()\n",
    "print(f\"Number of '?' in the 'cp' column: {cp_question_marks}\")"
   ]
  },
  {
   "cell_type": "code",
   "execution_count": 158,
   "metadata": {},
   "outputs": [
    {
     "name": "stdout",
     "output_type": "stream",
     "text": [
      "Number of '?' in the 'trestbps' column: 1\n"
     ]
    }
   ],
   "source": [
    "trestbps_question_marks = (df['trestbps'] == '?').sum()\n",
    "print(f\"Number of '?' in the 'trestbps' column: {trestbps_question_marks}\")"
   ]
  },
  {
   "cell_type": "code",
   "execution_count": 159,
   "metadata": {},
   "outputs": [
    {
     "name": "stdout",
     "output_type": "stream",
     "text": [
      "Number of '?' in the 'age' column: 0\n",
      "Number of '?' in the 'sex' column: 0\n",
      "Number of '?' in the 'cp' column: 0\n",
      "Number of '?' in the 'trestbps' column: 1\n",
      "Number of '?' in the 'chol' column: 23\n",
      "Number of '?' in the 'fbs' column: 8\n",
      "Number of '?' in the 'restecg' column: 1\n",
      "Number of '?' in the 'thalachh' column: 1\n",
      "Number of '?' in the 'exang' column: 1\n",
      "Number of '?' in the 'oldpeak' column: 0\n",
      "Number of '?' in the 'slope' column: 190\n",
      "Number of '?' in the 'ca' column: 291\n",
      "Number of '?' in the 'thal' column: 266\n",
      "Number of '?' in the 'target' column: 0\n"
     ]
    }
   ],
   "source": [
    "for column in df.columns:\n",
    "    question_mark_count = (df[column] == '?').sum()\n",
    "    print(f\"Number of '?' in the '{column}' column: {question_mark_count}\")"
   ]
  },
  {
   "cell_type": "markdown",
   "metadata": {},
   "source": [
    "While manually exploring the data I noticed some other unexpected values, so I will chack for those as well"
   ]
  },
  {
   "cell_type": "code",
   "execution_count": 160,
   "metadata": {},
   "outputs": [
    {
     "name": "stdout",
     "output_type": "stream",
     "text": [
      "Unique values in the 'age' column: [63 37 41 56 57 44 52 54 48 49 64 58 50 66 43 69 59 42 61 40 71 51 65 53\n",
      " 46 45 39 47 62 34 35 29 55 60 67 68 74 76 70 38 77 28 30 31 32 33 36]\n",
      "Unique values in the 'sex' column: [1 0]\n",
      "Unique values in the 'cp' column: [3 2 1 0 4]\n",
      "Unique values in the 'trestbps' column: ['145' '130' '120' '140' '172' '150' '110' '135' '160' '105' '125' '142'\n",
      " '155' '104' '138' '128' '108' '134' '122' '115' '118' '100' '124' '94'\n",
      " '112' '102' '152' '101' '132' '148' '178' '129' '180' '136' '126' '106'\n",
      " '156' '170' '146' '117' '200' '165' '174' '192' '144' '123' '154' '114'\n",
      " '164' '98' '190' '?' '113' '92' '158']\n",
      "Unique values in the 'chol' column: ['233' '250' '204' '236' '354' '192' '294' '263' '199' '168' '239' '275'\n",
      " '266' '211' '283' '219' '340' '226' '247' '234' '243' '302' '212' '175'\n",
      " '417' '197' '198' '177' '273' '213' '304' '232' '269' '360' '308' '245'\n",
      " '208' '264' '321' '325' '235' '257' '216' '256' '231' '141' '252' '201'\n",
      " '222' '260' '182' '303' '265' '309' '186' '203' '183' '220' '209' '258'\n",
      " '227' '261' '221' '205' '240' '318' '298' '564' '277' '214' '248' '255'\n",
      " '207' '223' '288' '160' '394' '315' '246' '244' '270' '195' '196' '254'\n",
      " '126' '313' '262' '215' '193' '271' '268' '267' '210' '295' '306' '178'\n",
      " '242' '180' '228' '149' '278' '253' '342' '157' '286' '229' '284' '224'\n",
      " '206' '167' '230' '335' '276' '353' '225' '330' '290' '172' '305' '188'\n",
      " '282' '185' '326' '274' '164' '307' '249' '341' '407' '217' '174' '281'\n",
      " '289' '322' '299' '300' '293' '184' '409' '259' '200' '327' '237' '218'\n",
      " '319' '166' '311' '169' '187' '176' '241' '131' '132' '?' '161' '173'\n",
      " '194' '297' '292' '339' '147' '291' '358' '412' '238' '163' '280' '202'\n",
      " '328' '129' '190' '179' '272' '100' '468' '320' '312' '171' '365' '344'\n",
      " '85' '347' '251' '287' '156' '117' '466' '338' '529' '392' '329' '355'\n",
      " '603' '404' '518' '285' '279' '388' '336' '491' '331' '393']\n",
      "Unique values in the 'fbs' column: ['1' '0' '?']\n",
      "Unique values in the 'restecg' column: ['0' '1' '2' '?']\n",
      "Unique values in the 'thalachh' column: ['150' '187' '172' '178' '163' '148' '153' '173' '162' '174' '160' '139'\n",
      " '171' '144' '158' '114' '151' '161' '179' '137' '157' '123' '152' '168'\n",
      " '140' '188' '125' '170' '165' '142' '180' '143' '182' '156' '115' '149'\n",
      " '146' '175' '186' '185' '159' '130' '190' '132' '147' '154' '202' '166'\n",
      " '164' '184' '122' '169' '138' '111' '145' '194' '131' '133' '155' '167'\n",
      " '192' '121' '96' '126' '105' '181' '116' '108' '129' '120' '112' '128'\n",
      " '109' '113' '99' '177' '141' '136' '97' '127' '103' '124' '88' '195'\n",
      " '106' '95' '117' '71' '118' '134' '90' '98' '176' '135' '110' '?' '100'\n",
      " '87' '102' '92' '91' '82' '119' '94']\n",
      "Unique values in the 'exang' column: ['0' '1' '?']\n",
      "Unique values in the 'oldpeak' column: [2.3 3.5 1.4 0.8 0.6 0.4 1.3 0.  0.5 1.6 1.2 0.2 1.8 1.  2.6 1.5 3.  2.4\n",
      " 0.1 1.9 4.2 1.1 2.  0.7 0.3 0.9 3.6 3.1 3.2 2.5 2.2 2.8 3.4 6.2 4.  5.6\n",
      " 2.9 2.1 3.8 4.4 5. ]\n",
      "Unique values in the 'slope' column: ['0' '2' '1' '?' '3']\n",
      "Unique values in the 'ca' column: ['0' '2' '1' '3' '4' '?']\n",
      "Unique values in the 'thal' column: ['1' '2' '3' '0' '?' '6' '7']\n",
      "Unique values in the 'target' column: [1 0]\n"
     ]
    }
   ],
   "source": [
    "for column in df.columns:\n",
    "    unique_values = df[column].unique()\n",
    "    print(f\"Unique values in the '{column}' column: {unique_values}\")"
   ]
  },
  {
   "cell_type": "markdown",
   "metadata": {},
   "source": [
    "Apart from ? there are some other unexpected values. cp has a value of 4 when the values for that feature should be 0,1,2,3. "
   ]
  },
  {
   "cell_type": "markdown",
   "metadata": {},
   "source": [
    "Slope has value of 3 when the expected values are 0,1,2\n",
    "\n",
    "ca has value 4 when expected values are 0,1,2,3\n",
    "thal expected values are 1,2,3 and there are values 6 and 7"
   ]
  },
  {
   "cell_type": "code",
   "execution_count": 161,
   "metadata": {},
   "outputs": [
    {
     "name": "stdout",
     "output_type": "stream",
     "text": [
      "Unexpected values in the 'cp' column: cp\n",
      "4    252\n",
      "Name: count, dtype: int64\n",
      "Unexpected values in the 'slope' column: slope\n",
      "2    964\n",
      "1    894\n",
      "?    190\n",
      "0    114\n",
      "3     19\n",
      "Name: count, dtype: int64\n",
      "Unexpected values in the 'ca' column: ca\n",
      "0    1086\n",
      "1     410\n",
      "?     291\n",
      "2     239\n",
      "3     127\n",
      "4      28\n",
      "Name: count, dtype: int64\n",
      "Unexpected values in the 'thal' column: thal\n",
      "2    874\n",
      "3    795\n",
      "?    266\n",
      "7    115\n",
      "1     96\n",
      "6     24\n",
      "0     11\n",
      "Name: count, dtype: int64\n"
     ]
    }
   ],
   "source": [
    "expected_values = {\n",
    "    'cp': [0, 1, 2, 3],\n",
    "    'slope': [0, 1, 2],\n",
    "    'ca': [0, 1, 2, 3],\n",
    "    'thal': [1, 2, 3]\n",
    "}\n",
    "\n",
    "#To count the unexpected values that I previously found\n",
    "def count_unexpected(df, column, valid_values):\n",
    "    unexpected_count = df[column][~df[column].isin(valid_values)].value_counts()\n",
    "    return unexpected_count\n",
    "\n",
    "#Check each specified column\n",
    "for column, valid_values in expected_values.items():\n",
    "    print(f\"Unexpected values in the '{column}' column: {count_unexpected(df, column, valid_values)}\")"
   ]
  },
  {
   "cell_type": "markdown",
   "metadata": {},
   "source": [
    "Unexpected values:\n",
    "\n",
    "cp: 252 rows of value 4\n",
    "\n",
    "slope: 19 rows of value 3\n",
    "\n",
    "ca: 28 rows of value 4\n",
    "\n",
    "thal: 11 rows of value 0\n",
    "\n",
    "thal: 24 rows of value 6\n",
    "\n",
    "thal: 115 rows of value 7\n"
   ]
  },
  {
   "cell_type": "code",
   "execution_count": 162,
   "metadata": {},
   "outputs": [],
   "source": [
    "# I imported all of the individual datasets so i can preprocess them and merge them properly\n",
    "df1 = pd.read_csv(r'C:\\Users\\elida\\OneDrive\\Desktop\\Uni-Master 2024\\ML\\ProjectML\\Datasets-to-merge\\heart.csv')\n",
    "df2 = pd.read_csv(r'C:\\Users\\elida\\OneDrive\\Desktop\\Uni-Master 2024\\ML\\ProjectML\\Datasets-to-merge\\heart2.csv')\n",
    "df3 = pd.read_csv(r'C:\\Users\\elida\\OneDrive\\Desktop\\Uni-Master 2024\\ML\\ProjectML\\Datasets-to-merge\\Heart_Disease_Prediction3.csv')\n",
    "df4 = pd.read_csv(r'C:\\Users\\elida\\OneDrive\\Desktop\\Uni-Master 2024\\ML\\ProjectML\\Datasets-to-merge\\data4.csv')\n",
    "df5 = pd.read_csv(r'C:\\Users\\elida\\OneDrive\\Desktop\\Uni-Master 2024\\ML\\ProjectML\\Datasets-to-merge\\heart5.csv')"
   ]
  },
  {
   "cell_type": "code",
   "execution_count": 163,
   "metadata": {},
   "outputs": [
    {
     "name": "stdout",
     "output_type": "stream",
     "text": [
      "['age', 'sex', 'cp', 'trtbps', 'chol', 'fbs', 'restecg', 'thalachh', 'exng', 'oldpeak', 'slp', 'caa', 'thall', 'output']\n",
      "['age', 'sex', 'cp', 'trestbps', 'chol', 'fbs', 'restecg', 'thalachh', 'exang', 'oldpeak', 'slope', 'ca', 'thal', 'target']\n"
     ]
    }
   ],
   "source": [
    "# To see all of the features\n",
    "print(df1.columns.tolist())\n",
    "# To see the features of the og dataset\n",
    "print(df.columns.tolist())"
   ]
  },
  {
   "cell_type": "code",
   "execution_count": 164,
   "metadata": {},
   "outputs": [
    {
     "name": "stdout",
     "output_type": "stream",
     "text": [
      "<class 'pandas.core.frame.DataFrame'>\n",
      "RangeIndex: 303 entries, 0 to 302\n",
      "Data columns (total 14 columns):\n",
      " #   Column    Non-Null Count  Dtype  \n",
      "---  ------    --------------  -----  \n",
      " 0   age       303 non-null    int64  \n",
      " 1   sex       303 non-null    int64  \n",
      " 2   cp        303 non-null    int64  \n",
      " 3   trtbps    303 non-null    int64  \n",
      " 4   chol      303 non-null    int64  \n",
      " 5   fbs       303 non-null    int64  \n",
      " 6   restecg   303 non-null    int64  \n",
      " 7   thalachh  303 non-null    int64  \n",
      " 8   exng      303 non-null    int64  \n",
      " 9   oldpeak   303 non-null    float64\n",
      " 10  slp       303 non-null    int64  \n",
      " 11  caa       303 non-null    int64  \n",
      " 12  thall     303 non-null    int64  \n",
      " 13  output    303 non-null    int64  \n",
      "dtypes: float64(1), int64(13)\n",
      "memory usage: 33.3 KB\n"
     ]
    }
   ],
   "source": [
    "df1.info()"
   ]
  },
  {
   "cell_type": "code",
   "execution_count": 165,
   "metadata": {},
   "outputs": [
    {
     "name": "stdout",
     "output_type": "stream",
     "text": [
      "Distinct values in cp: [3 2 1 0]\n",
      "Distinct values in fbs: [1 0]\n",
      "Distinct values in restecg: [0 1 2]\n",
      "Distinct values in exng: [0 1]\n",
      "Distinct values in slp: [0 2 1]\n",
      "Distinct values in caa: [0 2 1 3 4]\n",
      "Distinct values in thall: [1 2 3 0]\n",
      "Distinct values in output: [1 0]\n"
     ]
    }
   ],
   "source": [
    "# List of features to check \n",
    "features = ['cp', 'fbs', 'restecg', 'exng', 'slp', 'caa', 'thall', 'output']\n",
    "for feature in features:\n",
    "    print(f\"Distinct values in {feature}: {df1[feature].unique()}\")"
   ]
  },
  {
   "cell_type": "markdown",
   "metadata": {},
   "source": [
    "I need to check the same thing in the other datasets. caa has value 4 which is not intended. Thall shouldn't have the value 0."
   ]
  },
  {
   "cell_type": "code",
   "execution_count": 166,
   "metadata": {},
   "outputs": [
    {
     "name": "stdout",
     "output_type": "stream",
     "text": [
      "'4' appears 5 times in 'caa' out of 303 instances.\n"
     ]
    }
   ],
   "source": [
    "caa_counts = df1['caa'].value_counts()\n",
    "count_of_four = caa_counts.get(4, 0)\n",
    "\n",
    "total_instances = len(df1)\n",
    "print(f\"'4' appears {count_of_four} times in 'caa' out of {total_instances} instances.\")"
   ]
  },
  {
   "cell_type": "markdown",
   "metadata": {},
   "source": [
    "4 is most likely a mistake made during data entry."
   ]
  },
  {
   "cell_type": "code",
   "execution_count": 167,
   "metadata": {},
   "outputs": [
    {
     "name": "stdout",
     "output_type": "stream",
     "text": [
      "'0' appears 2 times in 'thall' out of 303 instances.\n"
     ]
    }
   ],
   "source": [
    "thall_counts = df1['thall'].value_counts()\n",
    "count_of_zero = thall_counts.get(0, 0)\n",
    "\n",
    "total_instances = len(df1)\n",
    "print(f\"'0' appears {count_of_zero} times in 'thall' out of {total_instances} instances.\")"
   ]
  },
  {
   "cell_type": "markdown",
   "metadata": {},
   "source": [
    "thall is most likely also a mistake made during data entry."
   ]
  },
  {
   "cell_type": "code",
   "execution_count": 168,
   "metadata": {},
   "outputs": [
    {
     "name": "stdout",
     "output_type": "stream",
     "text": [
      "<class 'pandas.core.frame.DataFrame'>\n",
      "RangeIndex: 1025 entries, 0 to 1024\n",
      "Data columns (total 14 columns):\n",
      " #   Column    Non-Null Count  Dtype  \n",
      "---  ------    --------------  -----  \n",
      " 0   age       1025 non-null   int64  \n",
      " 1   sex       1025 non-null   int64  \n",
      " 2   cp        1025 non-null   int64  \n",
      " 3   trestbps  1025 non-null   int64  \n",
      " 4   chol      1025 non-null   int64  \n",
      " 5   fbs       1025 non-null   int64  \n",
      " 6   restecg   1025 non-null   int64  \n",
      " 7   thalach   1025 non-null   int64  \n",
      " 8   exang     1025 non-null   int64  \n",
      " 9   oldpeak   1025 non-null   float64\n",
      " 10  slope     1025 non-null   int64  \n",
      " 11  ca        1025 non-null   int64  \n",
      " 12  thal      1025 non-null   int64  \n",
      " 13  target    1025 non-null   int64  \n",
      "dtypes: float64(1), int64(13)\n",
      "memory usage: 112.2 KB\n"
     ]
    }
   ],
   "source": [
    "df2.info()"
   ]
  },
  {
   "cell_type": "code",
   "execution_count": 169,
   "metadata": {},
   "outputs": [
    {
     "name": "stdout",
     "output_type": "stream",
     "text": [
      "Distinct values in cp: [0 1 2 3]\n",
      "Distinct values in fbs: [0 1]\n",
      "Distinct values in restecg: [1 0 2]\n",
      "Distinct values in exang: [0 1]\n",
      "Distinct values in slope: [2 0 1]\n",
      "Distinct values in ca: [2 0 1 3 4]\n",
      "Distinct values in thal: [3 2 1 0]\n",
      "Distinct values in target: [0 1]\n"
     ]
    }
   ],
   "source": [
    "#Unique values in Dataset 2\n",
    "features = ['cp', 'fbs', 'restecg', 'exang', 'slope', 'ca', 'thal', 'target']\n",
    "for feature in features:\n",
    "    print(f\"Distinct values in {feature}: {df2[feature].unique()}\")"
   ]
  },
  {
   "cell_type": "markdown",
   "metadata": {},
   "source": [
    "caa shouldn't have the value 4 and thal shouldn't have the value 0."
   ]
  },
  {
   "cell_type": "code",
   "execution_count": 170,
   "metadata": {},
   "outputs": [
    {
     "name": "stdout",
     "output_type": "stream",
     "text": [
      "'4' appears 18 times in 'ca' out of 1025 instances.\n"
     ]
    }
   ],
   "source": [
    "caa_counts = df2['ca'].value_counts()\n",
    "count_of_four = caa_counts.get(4, 0)\n",
    "\n",
    "total_instances = len(df2)\n",
    "print(f\"'4' appears {count_of_four} times in 'ca' out of {total_instances} instances.\")"
   ]
  },
  {
   "cell_type": "code",
   "execution_count": 171,
   "metadata": {},
   "outputs": [
    {
     "name": "stdout",
     "output_type": "stream",
     "text": [
      "'0' appears 7 times in 'thal' out of 1025 instances.\n"
     ]
    }
   ],
   "source": [
    "thall_counts = df2['thal'].value_counts()\n",
    "count_of_zero = thall_counts.get(0, 0)\n",
    "\n",
    "total_instances = len(df2)\n",
    "print(f\"'0' appears {count_of_zero} times in 'thal' out of {total_instances} instances.\")"
   ]
  },
  {
   "cell_type": "markdown",
   "metadata": {},
   "source": [
    "Both 4 in ca and 0 in thal are probably mistakes made during data entery."
   ]
  },
  {
   "cell_type": "code",
   "execution_count": 172,
   "metadata": {},
   "outputs": [
    {
     "name": "stdout",
     "output_type": "stream",
     "text": [
      "<class 'pandas.core.frame.DataFrame'>\n",
      "RangeIndex: 270 entries, 0 to 269\n",
      "Data columns (total 14 columns):\n",
      " #   Column                   Non-Null Count  Dtype  \n",
      "---  ------                   --------------  -----  \n",
      " 0   Age                      270 non-null    int64  \n",
      " 1   Sex                      270 non-null    int64  \n",
      " 2   Chest pain type          270 non-null    int64  \n",
      " 3   BP                       270 non-null    int64  \n",
      " 4   Cholesterol              270 non-null    int64  \n",
      " 5   FBS over 120             270 non-null    int64  \n",
      " 6   EKG results              270 non-null    int64  \n",
      " 7   Max HR                   270 non-null    int64  \n",
      " 8   Exercise angina          270 non-null    int64  \n",
      " 9   ST depression            270 non-null    float64\n",
      " 10  Slope of ST              270 non-null    int64  \n",
      " 11  Number of vessels fluro  270 non-null    int64  \n",
      " 12  Thallium                 270 non-null    int64  \n",
      " 13  Heart Disease            270 non-null    object \n",
      "dtypes: float64(1), int64(12), object(1)\n",
      "memory usage: 29.7+ KB\n"
     ]
    }
   ],
   "source": [
    "df3.info()"
   ]
  },
  {
   "cell_type": "code",
   "execution_count": 173,
   "metadata": {},
   "outputs": [
    {
     "name": "stdout",
     "output_type": "stream",
     "text": [
      "Distinct values in Chest pain type: [4 3 2 1]\n",
      "Distinct values in FBS over 120: [0 1]\n",
      "Distinct values in EKG results: [2 0 1]\n",
      "Distinct values in Exercise angina: [0 1]\n",
      "Distinct values in Slope of ST: [2 1 3]\n",
      "Distinct values in Number of vessels fluro: [3 0 1 2]\n",
      "Distinct values in Thallium: [3 7 6]\n",
      "Distinct values in Heart Disease: ['Presence' 'Absence']\n"
     ]
    }
   ],
   "source": [
    "features = ['Chest pain type', 'FBS over 120', 'EKG results', 'Exercise angina', 'Slope of ST', 'Number of vessels fluro', 'Thallium', 'Heart Disease']\n",
    "for feature in features:\n",
    "    print(f\"Distinct values in {feature}: {df3[feature].unique()}\")"
   ]
  },
  {
   "cell_type": "markdown",
   "metadata": {},
   "source": [
    "For dataset 3 I need to change the chest pain to go form 0-3 instead of 1-4. Change slope values from 1-3 to 0-2. Change thal values from 3,6,7 to 1-3. Change presence and absence to 1 and 0."
   ]
  },
  {
   "cell_type": "code",
   "execution_count": 174,
   "metadata": {},
   "outputs": [],
   "source": [
    "# changing the values from 1-4 to 0-3\n",
    "replacement_map = {\n",
    "    1: 0,\n",
    "    2: 1,\n",
    "    3: 2,\n",
    "    4: 3\n",
    "}\n",
    "df3['Chest pain type'] = df3['Chest pain type'].replace(replacement_map)"
   ]
  },
  {
   "cell_type": "code",
   "execution_count": 175,
   "metadata": {},
   "outputs": [
    {
     "name": "stdout",
     "output_type": "stream",
     "text": [
      "Chest pain type\n",
      "3    129\n",
      "2     79\n",
      "1     42\n",
      "0     20\n",
      "Name: count, dtype: int64\n"
     ]
    }
   ],
   "source": [
    "print(df3['Chest pain type'].value_counts())"
   ]
  },
  {
   "cell_type": "code",
   "execution_count": 176,
   "metadata": {},
   "outputs": [],
   "source": [
    "# changing the values from 1-3 to 0-2 of slope feature\n",
    "replacement_map = {\n",
    "    1: 0,\n",
    "    2: 1,\n",
    "    3: 2\n",
    "}\n",
    "df3['Slope of ST'] = df3['Slope of ST'].replace(replacement_map)"
   ]
  },
  {
   "cell_type": "code",
   "execution_count": 177,
   "metadata": {},
   "outputs": [
    {
     "name": "stdout",
     "output_type": "stream",
     "text": [
      "Slope of ST\n",
      "0    130\n",
      "1    122\n",
      "2     18\n",
      "Name: count, dtype: int64\n"
     ]
    }
   ],
   "source": [
    "print(df3['Slope of ST'].value_counts())"
   ]
  },
  {
   "cell_type": "code",
   "execution_count": 178,
   "metadata": {},
   "outputs": [
    {
     "name": "stdout",
     "output_type": "stream",
     "text": [
      "Thallium\n",
      "1    152\n",
      "3    104\n",
      "2     14\n",
      "Name: count, dtype: int64\n"
     ]
    }
   ],
   "source": [
    "# changing the values 3->1, 6->2, 7->3 for Thallium feature\n",
    "replacement_map = {\n",
    "    3: 1,\n",
    "    6: 2,\n",
    "    7: 3\n",
    "}\n",
    "df3['Thallium'] = df3['Thallium'].replace(replacement_map)\n",
    "print(df3['Thallium'].value_counts())"
   ]
  },
  {
   "cell_type": "code",
   "execution_count": 179,
   "metadata": {},
   "outputs": [
    {
     "name": "stdout",
     "output_type": "stream",
     "text": [
      "Heart Disease\n",
      "0    150\n",
      "1    120\n",
      "Name: count, dtype: int64\n"
     ]
    },
    {
     "name": "stderr",
     "output_type": "stream",
     "text": [
      "C:\\Users\\elida\\AppData\\Local\\Temp\\ipykernel_14532\\2247834156.py:6: FutureWarning: Downcasting behavior in `replace` is deprecated and will be removed in a future version. To retain the old behavior, explicitly call `result.infer_objects(copy=False)`. To opt-in to the future behavior, set `pd.set_option('future.no_silent_downcasting', True)`\n",
      "  df3['Heart Disease'] = df3['Heart Disease'].replace(replacement_map)\n"
     ]
    }
   ],
   "source": [
    "# changing the values Heart Disease feature\n",
    "replacement_map = {\n",
    "    'Presence': 1,\n",
    "    'Absence': 0\n",
    "}\n",
    "df3['Heart Disease'] = df3['Heart Disease'].replace(replacement_map)\n",
    "print(df3['Heart Disease'].value_counts())"
   ]
  },
  {
   "cell_type": "code",
   "execution_count": 180,
   "metadata": {},
   "outputs": [
    {
     "name": "stdout",
     "output_type": "stream",
     "text": [
      "Distinct values in Chest pain type: [3 2 1 0]\n",
      "Distinct values in FBS over 120: [0 1]\n",
      "Distinct values in EKG results: [2 0 1]\n",
      "Distinct values in Exercise angina: [0 1]\n",
      "Distinct values in Slope of ST: [1 0 2]\n",
      "Distinct values in Number of vessels fluro: [3 0 1 2]\n",
      "Distinct values in Thallium: [1 3 2]\n",
      "Distinct values in Heart Disease: [1 0]\n"
     ]
    }
   ],
   "source": [
    "features = ['Chest pain type', 'FBS over 120', 'EKG results', 'Exercise angina', 'Slope of ST', 'Number of vessels fluro', 'Thallium', 'Heart Disease']\n",
    "for feature in features:\n",
    "    print(f\"Distinct values in {feature}: {df3[feature].unique()}\")"
   ]
  },
  {
   "cell_type": "code",
   "execution_count": 181,
   "metadata": {},
   "outputs": [
    {
     "name": "stdout",
     "output_type": "stream",
     "text": [
      "<class 'pandas.core.frame.DataFrame'>\n",
      "RangeIndex: 294 entries, 0 to 293\n",
      "Data columns (total 14 columns):\n",
      " #   Column    Non-Null Count  Dtype  \n",
      "---  ------    --------------  -----  \n",
      " 0   age       294 non-null    int64  \n",
      " 1   sex       294 non-null    int64  \n",
      " 2   cp        294 non-null    int64  \n",
      " 3   trestbps  294 non-null    object \n",
      " 4   chol      294 non-null    object \n",
      " 5   fbs       294 non-null    object \n",
      " 6   restecg   294 non-null    object \n",
      " 7   thalach   294 non-null    object \n",
      " 8   exang     294 non-null    object \n",
      " 9   oldpeak   294 non-null    float64\n",
      " 10  slope     294 non-null    object \n",
      " 11  ca        294 non-null    object \n",
      " 12  thal      294 non-null    object \n",
      " 13  num       294 non-null    int64  \n",
      "dtypes: float64(1), int64(4), object(9)\n",
      "memory usage: 32.3+ KB\n"
     ]
    }
   ],
   "source": [
    "df4.info()"
   ]
  },
  {
   "cell_type": "code",
   "execution_count": 182,
   "metadata": {},
   "outputs": [
    {
     "name": "stdout",
     "output_type": "stream",
     "text": [
      "Distinct values in cp: [2 1 3 4]\n",
      "Distinct values in fbs: ['0' '?' '1']\n",
      "Distinct values in restecg: ['2' '0' '1' '?']\n",
      "Distinct values in exang: ['0' '1' '?']\n",
      "Distinct values in slope: ['?' '2' '1' '3']\n",
      "Distinct values in ca: ['?' '0']\n",
      "Distinct values in thal: ['?' '6' '3' '7']\n",
      "Distinct values in num: [0 1]\n"
     ]
    }
   ],
   "source": [
    "features = ['cp', 'fbs', 'restecg', 'exang', 'slope', 'ca', 'thal', 'num']\n",
    "for feature in features:\n",
    "    print(f\"Distinct values in {feature}: {df4[feature].unique()}\")"
   ]
  },
  {
   "cell_type": "markdown",
   "metadata": {},
   "source": [
    "We can see a lot of fields have ?, which is a representation of missing values.\n",
    "Values in cp should go from 0-3 instead of 1-4. Change values in thal from 3,6,7 to 1,2,3."
   ]
  },
  {
   "cell_type": "code",
   "execution_count": 183,
   "metadata": {},
   "outputs": [
    {
     "name": "stdout",
     "output_type": "stream",
     "text": [
      "cp\n",
      "3    123\n",
      "1    106\n",
      "2     54\n",
      "0     11\n",
      "Name: count, dtype: int64\n"
     ]
    }
   ],
   "source": [
    "# changing the values form 1-4 to 0-3 for cp feature\n",
    "replacement_map = {\n",
    "    1: 0,\n",
    "    2: 1,\n",
    "    3: 2,\n",
    "    4: 3\n",
    "}\n",
    "df4['cp'] = df4['cp'].replace(replacement_map)\n",
    "print(df4['cp'].value_counts())"
   ]
  },
  {
   "cell_type": "code",
   "execution_count": 184,
   "metadata": {},
   "outputs": [
    {
     "name": "stdout",
     "output_type": "stream",
     "text": [
      "thal\n",
      "?    266\n",
      "7     11\n",
      "6     10\n",
      "3      7\n",
      "Name: count, dtype: int64\n"
     ]
    }
   ],
   "source": [
    "# changing the values 3->1, 6->2, 7->3 for thal feature\n",
    "replacement_map = {\n",
    "    3: 1,\n",
    "    6: 2,\n",
    "    7: 3\n",
    "}\n",
    "df4['thal'] = df4['thal'].replace(replacement_map)\n",
    "print(df4['thal'].value_counts())"
   ]
  },
  {
   "cell_type": "markdown",
   "metadata": {},
   "source": [
    "So the code above didn't work because I didn't address the ? values."
   ]
  },
  {
   "cell_type": "code",
   "execution_count": 189,
   "metadata": {},
   "outputs": [],
   "source": [
    "import numpy as np"
   ]
  },
  {
   "cell_type": "code",
   "execution_count": 190,
   "metadata": {},
   "outputs": [
    {
     "name": "stdout",
     "output_type": "stream",
     "text": [
      "thal\n",
      "3.0    11\n",
      "2.0    10\n",
      "1.0     7\n",
      "Name: count, dtype: int64\n"
     ]
    }
   ],
   "source": [
    "# I change ? to be NaN value \n",
    "df4['thal'] = df4['thal'].replace('?', np.nan)\n",
    "# to make sure that the column is a numaric type after changing ? to NaN\n",
    "df4['thal'] = pd.to_numeric(df4['thal'], errors='coerce')\n",
    "replacement_map = {\n",
    "    3: 1,\n",
    "    6: 2,\n",
    "    7: 3\n",
    "}\n",
    "df4['thal'] = df4['thal'].replace(replacement_map)\n",
    "print(df4['thal'].value_counts())"
   ]
  },
  {
   "cell_type": "code",
   "execution_count": 191,
   "metadata": {},
   "outputs": [
    {
     "name": "stdout",
     "output_type": "stream",
     "text": [
      "<class 'pandas.core.frame.DataFrame'>\n",
      "RangeIndex: 289 entries, 0 to 288\n",
      "Data columns (total 14 columns):\n",
      " #   Column    Non-Null Count  Dtype  \n",
      "---  ------    --------------  -----  \n",
      " 0   age       289 non-null    int64  \n",
      " 1   sex       289 non-null    int64  \n",
      " 2   cp        289 non-null    int64  \n",
      " 3   trtbps    289 non-null    int64  \n",
      " 4   chol      289 non-null    int64  \n",
      " 5   fbs       289 non-null    int64  \n",
      " 6   restecg   289 non-null    int64  \n",
      " 7   thalachh  289 non-null    int64  \n",
      " 8   exng      289 non-null    int64  \n",
      " 9   oldpeak   289 non-null    float64\n",
      " 10  slp       289 non-null    int64  \n",
      " 11  caa       289 non-null    int64  \n",
      " 12  thall     289 non-null    int64  \n",
      " 13  output    289 non-null    int64  \n",
      "dtypes: float64(1), int64(13)\n",
      "memory usage: 31.7 KB\n"
     ]
    }
   ],
   "source": [
    "df5.info()"
   ]
  },
  {
   "cell_type": "code",
   "execution_count": 192,
   "metadata": {},
   "outputs": [
    {
     "name": "stdout",
     "output_type": "stream",
     "text": [
      "Distinct values in cp: [3 2 1 0]\n",
      "Distinct values in fbs: [1 0]\n",
      "Distinct values in restecg: [0 1 2]\n",
      "Distinct values in exng: [0 1]\n",
      "Distinct values in slp: [0 2 1]\n",
      "Distinct values in caa: [0 2 1 3 4]\n",
      "Distinct values in thall: [1 2 3 0]\n",
      "Distinct values in output: [1 0]\n"
     ]
    }
   ],
   "source": [
    "features = ['cp', 'fbs', 'restecg', 'exng', 'slp', 'caa', 'thall', 'output']\n",
    "for feature in features:\n",
    "    print(f\"Distinct values in {feature}: {df5[feature].unique()}\")"
   ]
  },
  {
   "cell_type": "markdown",
   "metadata": {},
   "source": [
    "4 in caa is unexpected, the values go from 0-3. thal should go from 1-3"
   ]
  },
  {
   "cell_type": "code",
   "execution_count": 195,
   "metadata": {},
   "outputs": [
    {
     "name": "stdout",
     "output_type": "stream",
     "text": [
      "caa\n",
      "0    170\n",
      "1     61\n",
      "2     34\n",
      "3     19\n",
      "4      5\n",
      "Name: count, dtype: int64\n"
     ]
    }
   ],
   "source": [
    "print(df5['caa'].value_counts())"
   ]
  },
  {
   "cell_type": "code",
   "execution_count": 196,
   "metadata": {},
   "outputs": [
    {
     "name": "stdout",
     "output_type": "stream",
     "text": [
      "'4' appears 5 times in 'caa' out of 289 instances.\n"
     ]
    }
   ],
   "source": [
    "caa = df5['caa'].value_counts()\n",
    "count_of_four = caa.get(4, 0)\n",
    "\n",
    "total_instances = len(df5)\n",
    "print(f\"'4' appears {count_of_four} times in 'caa' out of {total_instances} instances.\")"
   ]
  },
  {
   "cell_type": "markdown",
   "metadata": {},
   "source": [
    "Value 4 in caa is most likely a mistake made during data entery"
   ]
  },
  {
   "cell_type": "code",
   "execution_count": 193,
   "metadata": {},
   "outputs": [
    {
     "name": "stdout",
     "output_type": "stream",
     "text": [
      "'0' appears 2 times in 'thall' out of 289 instances.\n"
     ]
    }
   ],
   "source": [
    "thall_counts = df5['thall'].value_counts()\n",
    "count_of_zero = thall_counts.get(0, 0)\n",
    "\n",
    "total_instances = len(df5)\n",
    "print(f\"'0' appears {count_of_zero} times in 'thall' out of {total_instances} instances.\")"
   ]
  },
  {
   "cell_type": "markdown",
   "metadata": {},
   "source": [
    "It appears that the 0 is probbably just an error that happened during input."
   ]
  },
  {
   "cell_type": "code",
   "execution_count": 198,
   "metadata": {},
   "outputs": [
    {
     "name": "stdout",
     "output_type": "stream",
     "text": [
      "<class 'pandas.core.frame.DataFrame'>\n",
      "RangeIndex: 303 entries, 0 to 302\n",
      "Data columns (total 14 columns):\n",
      " #   Column    Non-Null Count  Dtype  \n",
      "---  ------    --------------  -----  \n",
      " 0   age       303 non-null    int64  \n",
      " 1   sex       303 non-null    int64  \n",
      " 2   cp        303 non-null    int64  \n",
      " 3   trtbps    303 non-null    int64  \n",
      " 4   chol      303 non-null    int64  \n",
      " 5   fbs       303 non-null    int64  \n",
      " 6   restecg   303 non-null    int64  \n",
      " 7   thalachh  303 non-null    int64  \n",
      " 8   exng      303 non-null    int64  \n",
      " 9   oldpeak   303 non-null    float64\n",
      " 10  slp       303 non-null    int64  \n",
      " 11  caa       303 non-null    int64  \n",
      " 12  thall     303 non-null    int64  \n",
      " 13  output    303 non-null    int64  \n",
      "dtypes: float64(1), int64(13)\n",
      "memory usage: 33.3 KB\n"
     ]
    }
   ],
   "source": [
    "df1.info()\n"
   ]
  },
  {
   "cell_type": "code",
   "execution_count": 199,
   "metadata": {},
   "outputs": [
    {
     "name": "stdout",
     "output_type": "stream",
     "text": [
      "<class 'pandas.core.frame.DataFrame'>\n",
      "RangeIndex: 1025 entries, 0 to 1024\n",
      "Data columns (total 14 columns):\n",
      " #   Column    Non-Null Count  Dtype  \n",
      "---  ------    --------------  -----  \n",
      " 0   age       1025 non-null   int64  \n",
      " 1   sex       1025 non-null   int64  \n",
      " 2   cp        1025 non-null   int64  \n",
      " 3   trestbps  1025 non-null   int64  \n",
      " 4   chol      1025 non-null   int64  \n",
      " 5   fbs       1025 non-null   int64  \n",
      " 6   restecg   1025 non-null   int64  \n",
      " 7   thalach   1025 non-null   int64  \n",
      " 8   exang     1025 non-null   int64  \n",
      " 9   oldpeak   1025 non-null   float64\n",
      " 10  slope     1025 non-null   int64  \n",
      " 11  ca        1025 non-null   int64  \n",
      " 12  thal      1025 non-null   int64  \n",
      " 13  target    1025 non-null   int64  \n",
      "dtypes: float64(1), int64(13)\n",
      "memory usage: 112.2 KB\n"
     ]
    }
   ],
   "source": [
    "df2.info()\n"
   ]
  },
  {
   "cell_type": "code",
   "execution_count": 200,
   "metadata": {},
   "outputs": [
    {
     "name": "stdout",
     "output_type": "stream",
     "text": [
      "<class 'pandas.core.frame.DataFrame'>\n",
      "RangeIndex: 270 entries, 0 to 269\n",
      "Data columns (total 14 columns):\n",
      " #   Column                   Non-Null Count  Dtype  \n",
      "---  ------                   --------------  -----  \n",
      " 0   Age                      270 non-null    int64  \n",
      " 1   Sex                      270 non-null    int64  \n",
      " 2   Chest pain type          270 non-null    int64  \n",
      " 3   BP                       270 non-null    int64  \n",
      " 4   Cholesterol              270 non-null    int64  \n",
      " 5   FBS over 120             270 non-null    int64  \n",
      " 6   EKG results              270 non-null    int64  \n",
      " 7   Max HR                   270 non-null    int64  \n",
      " 8   Exercise angina          270 non-null    int64  \n",
      " 9   ST depression            270 non-null    float64\n",
      " 10  Slope of ST              270 non-null    int64  \n",
      " 11  Number of vessels fluro  270 non-null    int64  \n",
      " 12  Thallium                 270 non-null    int64  \n",
      " 13  Heart Disease            270 non-null    int64  \n",
      "dtypes: float64(1), int64(13)\n",
      "memory usage: 29.7 KB\n"
     ]
    }
   ],
   "source": [
    "df3.info()\n"
   ]
  },
  {
   "cell_type": "code",
   "execution_count": 201,
   "metadata": {},
   "outputs": [
    {
     "name": "stdout",
     "output_type": "stream",
     "text": [
      "<class 'pandas.core.frame.DataFrame'>\n",
      "RangeIndex: 294 entries, 0 to 293\n",
      "Data columns (total 14 columns):\n",
      " #   Column    Non-Null Count  Dtype  \n",
      "---  ------    --------------  -----  \n",
      " 0   age       294 non-null    int64  \n",
      " 1   sex       294 non-null    int64  \n",
      " 2   cp        294 non-null    int64  \n",
      " 3   trestbps  294 non-null    object \n",
      " 4   chol      294 non-null    object \n",
      " 5   fbs       294 non-null    object \n",
      " 6   restecg   294 non-null    object \n",
      " 7   thalach   294 non-null    object \n",
      " 8   exang     294 non-null    object \n",
      " 9   oldpeak   294 non-null    float64\n",
      " 10  slope     294 non-null    object \n",
      " 11  ca        294 non-null    object \n",
      " 12  thal      28 non-null     float64\n",
      " 13  num       294 non-null    int64  \n",
      "dtypes: float64(2), int64(4), object(8)\n",
      "memory usage: 32.3+ KB\n"
     ]
    }
   ],
   "source": [
    "df4.info()\n"
   ]
  },
  {
   "cell_type": "code",
   "execution_count": 202,
   "metadata": {},
   "outputs": [
    {
     "name": "stdout",
     "output_type": "stream",
     "text": [
      "<class 'pandas.core.frame.DataFrame'>\n",
      "RangeIndex: 289 entries, 0 to 288\n",
      "Data columns (total 14 columns):\n",
      " #   Column    Non-Null Count  Dtype  \n",
      "---  ------    --------------  -----  \n",
      " 0   age       289 non-null    int64  \n",
      " 1   sex       289 non-null    int64  \n",
      " 2   cp        289 non-null    int64  \n",
      " 3   trtbps    289 non-null    int64  \n",
      " 4   chol      289 non-null    int64  \n",
      " 5   fbs       289 non-null    int64  \n",
      " 6   restecg   289 non-null    int64  \n",
      " 7   thalachh  289 non-null    int64  \n",
      " 8   exng      289 non-null    int64  \n",
      " 9   oldpeak   289 non-null    float64\n",
      " 10  slp       289 non-null    int64  \n",
      " 11  caa       289 non-null    int64  \n",
      " 12  thall     289 non-null    int64  \n",
      " 13  output    289 non-null    int64  \n",
      "dtypes: float64(1), int64(13)\n",
      "memory usage: 31.7 KB\n"
     ]
    }
   ],
   "source": [
    "df5.info()"
   ]
  },
  {
   "cell_type": "markdown",
   "metadata": {},
   "source": [
    "Now to change the column/feature names so everything matches."
   ]
  },
  {
   "cell_type": "code",
   "execution_count": 203,
   "metadata": {},
   "outputs": [],
   "source": [
    "# Changing the feature names for data frame 1 which is the first dataset\n",
    "# I changed the names to be the same as the one in dataset 2\n",
    "df1.rename(columns={\n",
    "    'trtbps': 'trestbps',\n",
    "    'thalachh': 'thalach',\n",
    "    'exng': 'exang',\n",
    "    'slp': 'slope',\n",
    "    'caa': 'ca',\n",
    "    'thall': 'thal',\n",
    "    'output': 'target'\n",
    "}, inplace=True)"
   ]
  },
  {
   "cell_type": "code",
   "execution_count": 204,
   "metadata": {},
   "outputs": [],
   "source": [
    "# Changing the feature names for data frame 3 which is the third dataset\n",
    "df3.rename(columns={\n",
    "    'Age': 'age',\n",
    "    'Sex': 'sex',\n",
    "    'Chest pain type': 'cp',\n",
    "    'BP': 'trestbps',\n",
    "    'Cholesterol': 'chol',\n",
    "    'FBS over 120': 'fbs',\n",
    "    'EKG results': 'restecg',\n",
    "    'Max HR': 'thalach',\n",
    "    'Exercise angina': 'exang',\n",
    "    'ST depression': 'oldpeak',\n",
    "    'Slope of ST': 'slope',\n",
    "    'Number of vessels fluro': 'ca',\n",
    "    'Thallium': 'thal',\n",
    "    'Heart Disease': 'target'\n",
    "}, inplace=True)"
   ]
  },
  {
   "cell_type": "code",
   "execution_count": 205,
   "metadata": {},
   "outputs": [],
   "source": [
    "# Changing the feature names for data frame 4 which is the fourth dataset\n",
    "df4.rename(columns={\n",
    "    'num': 'target'\n",
    "}, inplace=True)"
   ]
  },
  {
   "cell_type": "code",
   "execution_count": 206,
   "metadata": {},
   "outputs": [],
   "source": [
    "# Changing the feature names for data frame 5 which is the fifth dataset\n",
    "df5.rename(columns={\n",
    "    'trtbps': 'trestbps',\n",
    "    'thalachh': 'thalach',\n",
    "    'exng': 'exang',\n",
    "    'slp': 'slope',\n",
    "    'caa': 'ca',\n",
    "    'thall': 'thal',\n",
    "    'output': 'target'\n",
    "}, inplace=True)"
   ]
  },
  {
   "cell_type": "code",
   "execution_count": 208,
   "metadata": {},
   "outputs": [
    {
     "name": "stdout",
     "output_type": "stream",
     "text": [
      "<class 'pandas.core.frame.DataFrame'>\n",
      "RangeIndex: 294 entries, 0 to 293\n",
      "Data columns (total 14 columns):\n",
      " #   Column    Non-Null Count  Dtype  \n",
      "---  ------    --------------  -----  \n",
      " 0   age       294 non-null    int64  \n",
      " 1   sex       294 non-null    int64  \n",
      " 2   cp        294 non-null    int64  \n",
      " 3   trestbps  294 non-null    object \n",
      " 4   chol      294 non-null    object \n",
      " 5   fbs       294 non-null    object \n",
      " 6   restecg   294 non-null    object \n",
      " 7   thalach   294 non-null    object \n",
      " 8   exang     294 non-null    object \n",
      " 9   oldpeak   294 non-null    float64\n",
      " 10  slope     294 non-null    object \n",
      " 11  ca        294 non-null    object \n",
      " 12  thal      28 non-null     float64\n",
      " 13  target    294 non-null    int64  \n",
      "dtypes: float64(2), int64(4), object(8)\n",
      "memory usage: 32.3+ KB\n"
     ]
    }
   ],
   "source": [
    "df4.info()"
   ]
  }
 ],
 "metadata": {
  "kernelspec": {
   "display_name": "Python 3",
   "language": "python",
   "name": "python3"
  },
  "language_info": {
   "codemirror_mode": {
    "name": "ipython",
    "version": 3
   },
   "file_extension": ".py",
   "mimetype": "text/x-python",
   "name": "python",
   "nbconvert_exporter": "python",
   "pygments_lexer": "ipython3",
   "version": "3.11.9"
  }
 },
 "nbformat": 4,
 "nbformat_minor": 2
}
